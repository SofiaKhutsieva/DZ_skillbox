{
 "cells": [
  {
   "cell_type": "markdown",
   "metadata": {
    "id": "5SGn801yaveE"
   },
   "source": [
    "## Урок 4.\n",
    "\n",
    "### Задание начального уровня\n",
    "\n",
    "Обучите модель Skip-Gram (передав параметр `sg=1`. Какие top-10 слов больше всего похожи на слово `iphone` ?"
   ]
  },
  {
   "cell_type": "code",
   "execution_count": 2,
   "metadata": {},
   "outputs": [
    {
     "name": "stdout",
     "output_type": "stream",
     "text": [
      "Collecting gensim\n",
      "  Downloading gensim-4.0.1-cp38-cp38-win_amd64.whl (23.9 MB)\n",
      "Collecting Cython==0.29.21\n",
      "  Downloading Cython-0.29.21-cp38-cp38-win_amd64.whl (1.7 MB)\n",
      "Requirement already satisfied: numpy>=1.11.3 in c:\\users\\софия\\appdata\\local\\programs\\python\\python38\\lib\\site-packages (from gensim) (1.18.5)\n",
      "Collecting smart-open>=1.8.1\n",
      "  Downloading smart_open-5.1.0-py3-none-any.whl (57 kB)\n",
      "Requirement already satisfied: scipy>=0.18.1 in c:\\users\\софия\\appdata\\local\\programs\\python\\python38\\lib\\site-packages (from gensim) (1.6.3)\n",
      "Installing collected packages: smart-open, Cython, gensim\n",
      "Successfully installed Cython-0.29.21 gensim-4.0.1 smart-open-5.1.0\n",
      "Note: you may need to restart the kernel to use updated packages.\n"
     ]
    }
   ],
   "source": [
    "pip install gensim"
   ]
  },
  {
   "cell_type": "code",
   "execution_count": 1,
   "metadata": {
    "id": "MKl_QAtOaved"
   },
   "outputs": [],
   "source": [
    "from gensim.models import Word2Vec\n",
    "import logging\n",
    "\n",
    "\n",
    "### YOUR CODE HERE ###\n"
   ]
  },
  {
   "cell_type": "code",
   "execution_count": 2,
   "metadata": {},
   "outputs": [
    {
     "data": {
      "text/plain": [
       "0    [wesley83, 3g, iphone, 3, hrs, tweeting, rise_...\n",
       "1    [jessedee, know, fludapp, awesome, ipad/iphone...\n",
       "2    [swonderlin, wait, ipad, 2, also, should, sale...\n",
       "3    [sxsw, hope, year, 's, festival, n't, crashy, ...\n",
       "4    [sxtxstate, great, stuff, fri, sxsw, marissa, ...\n",
       "Name: tokenized, dtype: object"
      ]
     },
     "execution_count": 2,
     "metadata": {},
     "output_type": "execute_result"
    }
   ],
   "source": [
    "import nltk\n",
    "import string\n",
    "import pandas as pd\n",
    "\n",
    "df = pd.read_csv('brand_tweets.csv', sep=',', encoding='utf8')\n",
    "# удаляем строки, в которых отсутствует текст твита\n",
    "df.drop(df[df.tweet_text.isnull()].index, inplace=True)\n",
    "\n",
    "stop_words = [\n",
    "    'i', 'me', 'my', 'myself', 'we', 'our', 'ours', 'ourselves', 'you', \"you're\", \"you've\", \"you'll\", \"you'd\",\n",
    "    'your', 'yours', 'yourself', 'yourselves', 'he', 'him', 'his', 'himself', 'she', \"she's\", 'her', 'hers',\n",
    "    'herself', 'it', \"it's\", 'its', 'itself', 'they', 'them', 'their', 'theirs', 'themselves', 'what', 'which',\n",
    "    'who', 'whom', 'this', 'that', \"that'll\", 'these', 'those', 'am', 'is', 'are', 'was', 'were', 'be', 'been',\n",
    "    'being', 'have', 'has', 'had', 'having', 'do', 'does', 'did', 'doing', 'a', 'an', 'the', 'and', 'but', 'if',\n",
    "    'or', 'because', 'as', 'until', 'while', 'of', 'at', 'by', 'for', 'with', 'about', 'against', 'between',\n",
    "    'into', 'through', 'during', 'before', 'after', 'above', 'below', 'to', 'from', 'up', 'down', 'in', 'out',\n",
    "    'on', 'off', 'over', 'under', 'again', 'further', 'then', 'once', 'here', 'there', 'when', 'where', 'why',\n",
    "    'how', 'all', 'any', 'both', 'each', 'few', 'more', 'most', 'other', 'some', 'such', 'no', 'nor', 'not',\n",
    "    'only', 'own', 'same', 'so', 'than', 'too', 'very', 's', 't', 'can', 'will', 'just', 'don', \"don't\", 'shold',\n",
    "    \"should've\", 'now', 'd', 'll', 'm', 'o', 're', 've', 'y', 'ain', 'aren', \"aren't\", 'couldn', \"couldn't\",\n",
    "    'didn', \"didn't\", 'doesn', \"doesn't\", 'hadn', \"hadn't\", 'hasn', \"hasn't\", 'haven', \"haven't\", 'isn', \"isn't\",\n",
    "    'ma', 'mightn', \"mightn't\", 'mustn', \"mustn't\", 'needn', \"needn't\", 'shan', \"shan't\", 'shouldn', \"shouldn't\",\n",
    "    'wasn', \"wasn't\", 'weren', \"weren't\", 'won', \"won't\", 'wouldn', \"wouldn't\"\n",
    "]\n",
    "\n",
    "def tokenize_text(raw_text: str):\n",
    "    \"\"\"Функция для токенизации текста\n",
    "    \n",
    "    :param raw_text: исходная текстовая строка\n",
    "    \"\"\"\n",
    "    tokenized_str = nltk.word_tokenize(raw_text)\n",
    "    tokens = [i.lower() for i in tokenized_str if ( i not in string.punctuation )]\n",
    "    filtered_tokens = [i for i in tokens if ( i not in stop_words )]\n",
    "    return filtered_tokens\n",
    "\n",
    "# применяем функцию в датафрейму с помощью метода .apply()\n",
    "tokenized_tweets= df.tweet_text.apply(tokenize_text)\n",
    "\n",
    "# добавляем новую колонку в исходный датафрейм\n",
    "df = df.assign(\n",
    "    tokenized=tokenized_tweets\n",
    ")\n",
    "\n",
    "df.tokenized.head()"
   ]
  },
  {
   "cell_type": "code",
   "execution_count": null,
   "metadata": {},
   "outputs": [],
   "source": []
  },
  {
   "cell_type": "code",
   "execution_count": 3,
   "metadata": {},
   "outputs": [
    {
     "name": "stderr",
     "output_type": "stream",
     "text": [
      "2021-10-19 15:17:28,551 : INFO : collecting all words and their counts\n",
      "2021-10-19 15:17:28,558 : INFO : PROGRESS: at sentence #0, processed 0 words, keeping 0 word types\n",
      "2021-10-19 15:17:28,577 : INFO : collected 7254 word types from a corpus of 48408 raw words and 3904 sentences\n",
      "2021-10-19 15:17:28,578 : INFO : Creating a fresh vocabulary\n",
      "2021-10-19 15:17:28,601 : INFO : Word2Vec lifecycle event {'msg': 'effective_min_count=2 retains 3084 unique words (42.51447477253929%% of original 7254, drops 4170)', 'datetime': '2021-10-19T15:17:28.601456', 'gensim': '4.0.1', 'python': '3.8.2 (tags/v3.8.2:7b3ab59, Feb 25 2020, 23:03:10) [MSC v.1916 64 bit (AMD64)]', 'platform': 'Windows-10-10.0.19041-SP0', 'event': 'prepare_vocab'}\n",
      "2021-10-19 15:17:28,603 : INFO : Word2Vec lifecycle event {'msg': 'effective_min_count=2 leaves 44238 word corpus (91.38572136836886%% of original 48408, drops 4170)', 'datetime': '2021-10-19T15:17:28.603463', 'gensim': '4.0.1', 'python': '3.8.2 (tags/v3.8.2:7b3ab59, Feb 25 2020, 23:03:10) [MSC v.1916 64 bit (AMD64)]', 'platform': 'Windows-10-10.0.19041-SP0', 'event': 'prepare_vocab'}\n",
      "2021-10-19 15:17:28,633 : INFO : deleting the raw counts dictionary of 7254 items\n",
      "2021-10-19 15:17:28,634 : INFO : sample=0.001 downsamples 40 most-common words\n",
      "2021-10-19 15:17:28,635 : INFO : Word2Vec lifecycle event {'msg': 'downsampling leaves estimated 30600.220990603302 word corpus (69.2%% of prior 44238)', 'datetime': '2021-10-19T15:17:28.635365', 'gensim': '4.0.1', 'python': '3.8.2 (tags/v3.8.2:7b3ab59, Feb 25 2020, 23:03:10) [MSC v.1916 64 bit (AMD64)]', 'platform': 'Windows-10-10.0.19041-SP0', 'event': 'prepare_vocab'}\n",
      "2021-10-19 15:17:28,681 : INFO : estimated required memory for 3084 words and 100 dimensions: 4009200 bytes\n",
      "2021-10-19 15:17:28,682 : INFO : resetting layer weights\n",
      "2021-10-19 15:17:28,684 : INFO : Word2Vec lifecycle event {'update': False, 'trim_rule': 'None', 'datetime': '2021-10-19T15:17:28.684235', 'gensim': '4.0.1', 'python': '3.8.2 (tags/v3.8.2:7b3ab59, Feb 25 2020, 23:03:10) [MSC v.1916 64 bit (AMD64)]', 'platform': 'Windows-10-10.0.19041-SP0', 'event': 'build_vocab'}\n",
      "2021-10-19 15:17:28,685 : INFO : Word2Vec lifecycle event {'msg': 'training model with 4 workers on 3084 vocabulary and 100 features, using sg=1 hs=0 sample=0.001 negative=5 window=7', 'datetime': '2021-10-19T15:17:28.685236', 'gensim': '4.0.1', 'python': '3.8.2 (tags/v3.8.2:7b3ab59, Feb 25 2020, 23:03:10) [MSC v.1916 64 bit (AMD64)]', 'platform': 'Windows-10-10.0.19041-SP0', 'event': 'train'}\n",
      "2021-10-19 15:17:28,743 : INFO : worker thread finished; awaiting finish of 3 more threads\n",
      "2021-10-19 15:17:28,747 : INFO : worker thread finished; awaiting finish of 2 more threads\n",
      "2021-10-19 15:17:28,750 : INFO : worker thread finished; awaiting finish of 1 more threads\n",
      "2021-10-19 15:17:28,778 : INFO : worker thread finished; awaiting finish of 0 more threads\n",
      "2021-10-19 15:17:28,779 : INFO : EPOCH - 1 : training on 48408 raw words (30636 effective words) took 0.1s, 357193 effective words/s\n",
      "2021-10-19 15:17:28,836 : INFO : worker thread finished; awaiting finish of 3 more threads\n",
      "2021-10-19 15:17:28,837 : INFO : worker thread finished; awaiting finish of 2 more threads\n",
      "2021-10-19 15:17:28,839 : INFO : worker thread finished; awaiting finish of 1 more threads\n",
      "2021-10-19 15:17:28,858 : INFO : worker thread finished; awaiting finish of 0 more threads\n",
      "2021-10-19 15:17:28,859 : INFO : EPOCH - 2 : training on 48408 raw words (30567 effective words) took 0.1s, 424879 effective words/s\n",
      "2021-10-19 15:17:28,918 : INFO : worker thread finished; awaiting finish of 3 more threads\n",
      "2021-10-19 15:17:28,919 : INFO : worker thread finished; awaiting finish of 2 more threads\n",
      "2021-10-19 15:17:28,920 : INFO : worker thread finished; awaiting finish of 1 more threads\n",
      "2021-10-19 15:17:28,941 : INFO : worker thread finished; awaiting finish of 0 more threads\n",
      "2021-10-19 15:17:28,942 : INFO : EPOCH - 3 : training on 48408 raw words (30611 effective words) took 0.1s, 407196 effective words/s\n",
      "2021-10-19 15:17:28,995 : INFO : worker thread finished; awaiting finish of 3 more threads\n",
      "2021-10-19 15:17:29,007 : INFO : worker thread finished; awaiting finish of 2 more threads\n",
      "2021-10-19 15:17:29,010 : INFO : worker thread finished; awaiting finish of 1 more threads\n",
      "2021-10-19 15:17:29,026 : INFO : worker thread finished; awaiting finish of 0 more threads\n",
      "2021-10-19 15:17:29,028 : INFO : EPOCH - 4 : training on 48408 raw words (30654 effective words) took 0.1s, 403291 effective words/s\n",
      "2021-10-19 15:17:29,098 : INFO : worker thread finished; awaiting finish of 3 more threads\n",
      "2021-10-19 15:17:29,100 : INFO : worker thread finished; awaiting finish of 2 more threads\n",
      "2021-10-19 15:17:29,102 : INFO : worker thread finished; awaiting finish of 1 more threads\n",
      "2021-10-19 15:17:29,123 : INFO : worker thread finished; awaiting finish of 0 more threads\n",
      "2021-10-19 15:17:29,124 : INFO : EPOCH - 5 : training on 48408 raw words (30605 effective words) took 0.1s, 350148 effective words/s\n",
      "2021-10-19 15:17:29,125 : INFO : Word2Vec lifecycle event {'msg': 'training on 242040 raw words (153073 effective words) took 0.4s, 348898 effective words/s', 'datetime': '2021-10-19T15:17:29.125537', 'gensim': '4.0.1', 'python': '3.8.2 (tags/v3.8.2:7b3ab59, Feb 25 2020, 23:03:10) [MSC v.1916 64 bit (AMD64)]', 'platform': 'Windows-10-10.0.19041-SP0', 'event': 'train'}\n",
      "2021-10-19 15:17:29,125 : INFO : Word2Vec lifecycle event {'params': 'Word2Vec(vocab=3084, vector_size=100, alpha=0.025)', 'datetime': '2021-10-19T15:17:29.125537', 'gensim': '4.0.1', 'python': '3.8.2 (tags/v3.8.2:7b3ab59, Feb 25 2020, 23:03:10) [MSC v.1916 64 bit (AMD64)]', 'platform': 'Windows-10-10.0.19041-SP0', 'event': 'created'}\n"
     ]
    }
   ],
   "source": [
    "logging.basicConfig(format='%(asctime)s : %(levelname)s : %(message)s', level=logging.INFO)\n",
    "\n",
    "# CBOW\n",
    "texts = df.tokenized.values\n",
    "model = Word2Vec(texts, window=7, min_count=2, workers=4, sg=1)"
   ]
  },
  {
   "cell_type": "code",
   "execution_count": 8,
   "metadata": {},
   "outputs": [
    {
     "data": {
      "text/plain": [
       "['sxsw',\n",
       " 'hope',\n",
       " 'year',\n",
       " \"'s\",\n",
       " 'festival',\n",
       " \"n't\",\n",
       " 'crashy',\n",
       " 'year',\n",
       " \"'s\",\n",
       " 'iphone',\n",
       " 'app',\n",
       " 'sxsw']"
      ]
     },
     "execution_count": 8,
     "metadata": {},
     "output_type": "execute_result"
    }
   ],
   "source": [
    "texts[3]"
   ]
  },
  {
   "cell_type": "code",
   "execution_count": 17,
   "metadata": {},
   "outputs": [
    {
     "data": {
      "text/plain": [
       "[('android', 0.9710574150085449),\n",
       " ('app', 0.9584170579910278),\n",
       " ('download', 0.9563568830490112),\n",
       " ('music', 0.9307428002357483),\n",
       " ('check', 0.9243969917297363),\n",
       " ('blackberry', 0.920161783695221),\n",
       " ('sampler', 0.9198792576789856),\n",
       " ('apps', 0.919035017490387),\n",
       " ('tracks', 0.9189664721488953),\n",
       " ('team', 0.9188143014907837)]"
      ]
     },
     "execution_count": 17,
     "metadata": {},
     "output_type": "execute_result"
    }
   ],
   "source": [
    "model.wv.most_similar('iphone')"
   ]
  },
  {
   "cell_type": "code",
   "execution_count": null,
   "metadata": {},
   "outputs": [],
   "source": []
  },
  {
   "cell_type": "code",
   "execution_count": 18,
   "metadata": {},
   "outputs": [
    {
     "name": "stderr",
     "output_type": "stream",
     "text": [
      "2021-07-21 13:15:08,605 : INFO : collecting all words and their counts\n",
      "2021-07-21 13:15:08,606 : INFO : PROGRESS: at sentence #0, processed 0 words, keeping 0 word types\n",
      "2021-07-21 13:15:08,626 : INFO : collected 7254 word types from a corpus of 48408 raw words and 3904 sentences\n",
      "2021-07-21 13:15:08,628 : INFO : Creating a fresh vocabulary\n",
      "2021-07-21 13:15:08,659 : INFO : Word2Vec lifecycle event {'msg': 'effective_min_count=2 retains 3084 unique words (42.51447477253929%% of original 7254, drops 4170)', 'datetime': '2021-07-21T13:15:08.659808', 'gensim': '4.0.1', 'python': '3.8.2 (tags/v3.8.2:7b3ab59, Feb 25 2020, 23:03:10) [MSC v.1916 64 bit (AMD64)]', 'platform': 'Windows-10-10.0.19041-SP0', 'event': 'prepare_vocab'}\n",
      "2021-07-21 13:15:08,660 : INFO : Word2Vec lifecycle event {'msg': 'effective_min_count=2 leaves 44238 word corpus (91.38572136836886%% of original 48408, drops 4170)', 'datetime': '2021-07-21T13:15:08.660806', 'gensim': '4.0.1', 'python': '3.8.2 (tags/v3.8.2:7b3ab59, Feb 25 2020, 23:03:10) [MSC v.1916 64 bit (AMD64)]', 'platform': 'Windows-10-10.0.19041-SP0', 'event': 'prepare_vocab'}\n",
      "2021-07-21 13:15:08,701 : INFO : deleting the raw counts dictionary of 7254 items\n",
      "2021-07-21 13:15:08,703 : INFO : sample=0.001 downsamples 40 most-common words\n",
      "2021-07-21 13:15:08,704 : INFO : Word2Vec lifecycle event {'msg': 'downsampling leaves estimated 30600.220990603302 word corpus (69.2%% of prior 44238)', 'datetime': '2021-07-21T13:15:08.704693', 'gensim': '4.0.1', 'python': '3.8.2 (tags/v3.8.2:7b3ab59, Feb 25 2020, 23:03:10) [MSC v.1916 64 bit (AMD64)]', 'platform': 'Windows-10-10.0.19041-SP0', 'event': 'prepare_vocab'}\n",
      "2021-07-21 13:15:08,756 : INFO : estimated required memory for 3084 words and 100 dimensions: 4009200 bytes\n",
      "2021-07-21 13:15:08,757 : INFO : resetting layer weights\n",
      "2021-07-21 13:15:08,760 : INFO : Word2Vec lifecycle event {'update': False, 'trim_rule': 'None', 'datetime': '2021-07-21T13:15:08.760539', 'gensim': '4.0.1', 'python': '3.8.2 (tags/v3.8.2:7b3ab59, Feb 25 2020, 23:03:10) [MSC v.1916 64 bit (AMD64)]', 'platform': 'Windows-10-10.0.19041-SP0', 'event': 'build_vocab'}\n",
      "2021-07-21 13:15:08,762 : INFO : Word2Vec lifecycle event {'msg': 'training model with 4 workers on 3084 vocabulary and 100 features, using sg=0 hs=0 sample=0.001 negative=5 window=7', 'datetime': '2021-07-21T13:15:08.761536', 'gensim': '4.0.1', 'python': '3.8.2 (tags/v3.8.2:7b3ab59, Feb 25 2020, 23:03:10) [MSC v.1916 64 bit (AMD64)]', 'platform': 'Windows-10-10.0.19041-SP0', 'event': 'train'}\n",
      "2021-07-21 13:15:08,798 : INFO : worker thread finished; awaiting finish of 3 more threads\n",
      "2021-07-21 13:15:08,800 : INFO : worker thread finished; awaiting finish of 2 more threads\n",
      "2021-07-21 13:15:08,802 : INFO : worker thread finished; awaiting finish of 1 more threads\n",
      "2021-07-21 13:15:08,805 : INFO : worker thread finished; awaiting finish of 0 more threads\n",
      "2021-07-21 13:15:08,807 : INFO : EPOCH - 1 : training on 48408 raw words (30637 effective words) took 0.0s, 839303 effective words/s\n",
      "2021-07-21 13:15:08,845 : INFO : worker thread finished; awaiting finish of 3 more threads\n",
      "2021-07-21 13:15:08,848 : INFO : worker thread finished; awaiting finish of 2 more threads\n",
      "2021-07-21 13:15:08,850 : INFO : worker thread finished; awaiting finish of 1 more threads\n",
      "2021-07-21 13:15:08,851 : INFO : worker thread finished; awaiting finish of 0 more threads\n",
      "2021-07-21 13:15:08,851 : INFO : EPOCH - 2 : training on 48408 raw words (30612 effective words) took 0.0s, 866236 effective words/s\n",
      "2021-07-21 13:15:08,895 : INFO : worker thread finished; awaiting finish of 3 more threads\n",
      "2021-07-21 13:15:08,897 : INFO : worker thread finished; awaiting finish of 2 more threads\n",
      "2021-07-21 13:15:08,898 : INFO : worker thread finished; awaiting finish of 1 more threads\n",
      "2021-07-21 13:15:08,901 : INFO : worker thread finished; awaiting finish of 0 more threads\n",
      "2021-07-21 13:15:08,902 : INFO : EPOCH - 3 : training on 48408 raw words (30631 effective words) took 0.0s, 740693 effective words/s\n",
      "2021-07-21 13:15:08,941 : INFO : worker thread finished; awaiting finish of 3 more threads\n",
      "2021-07-21 13:15:08,942 : INFO : worker thread finished; awaiting finish of 2 more threads\n",
      "2021-07-21 13:15:08,943 : INFO : worker thread finished; awaiting finish of 1 more threads\n",
      "2021-07-21 13:15:08,945 : INFO : worker thread finished; awaiting finish of 0 more threads\n",
      "2021-07-21 13:15:08,946 : INFO : EPOCH - 4 : training on 48408 raw words (30677 effective words) took 0.0s, 855277 effective words/s\n",
      "2021-07-21 13:15:08,988 : INFO : worker thread finished; awaiting finish of 3 more threads\n",
      "2021-07-21 13:15:08,992 : INFO : worker thread finished; awaiting finish of 2 more threads\n",
      "2021-07-21 13:15:08,995 : INFO : worker thread finished; awaiting finish of 1 more threads\n",
      "2021-07-21 13:15:08,997 : INFO : worker thread finished; awaiting finish of 0 more threads\n",
      "2021-07-21 13:15:08,999 : INFO : EPOCH - 5 : training on 48408 raw words (30727 effective words) took 0.0s, 740231 effective words/s\n",
      "2021-07-21 13:15:09,000 : INFO : Word2Vec lifecycle event {'msg': 'training on 242040 raw words (153284 effective words) took 0.2s, 648159 effective words/s', 'datetime': '2021-07-21T13:15:09.000341', 'gensim': '4.0.1', 'python': '3.8.2 (tags/v3.8.2:7b3ab59, Feb 25 2020, 23:03:10) [MSC v.1916 64 bit (AMD64)]', 'platform': 'Windows-10-10.0.19041-SP0', 'event': 'train'}\n",
      "2021-07-21 13:15:09,000 : INFO : Word2Vec lifecycle event {'params': 'Word2Vec(vocab=3084, vector_size=100, alpha=0.025)', 'datetime': '2021-07-21T13:15:09.000341', 'gensim': '4.0.1', 'python': '3.8.2 (tags/v3.8.2:7b3ab59, Feb 25 2020, 23:03:10) [MSC v.1916 64 bit (AMD64)]', 'platform': 'Windows-10-10.0.19041-SP0', 'event': 'created'}\n"
     ]
    },
    {
     "data": {
      "text/plain": [
       "[('app', 0.9997912049293518),\n",
       " ('like', 0.9997674226760864),\n",
       " ('great', 0.9997658133506775),\n",
       " (\"n't\", 0.9997648000717163),\n",
       " ('talk', 0.9997158050537109),\n",
       " ('got', 0.9997108578681946),\n",
       " ('make', 0.9996978640556335),\n",
       " ('looking', 0.9996858835220337),\n",
       " ('session', 0.9996767044067383),\n",
       " ('hey', 0.9996731281280518)]"
      ]
     },
     "execution_count": 18,
     "metadata": {},
     "output_type": "execute_result"
    }
   ],
   "source": [
    "# Skip-gram\n",
    "texts = df.tokenized.values\n",
    "model = Word2Vec(texts, window=7, min_count=2, workers=4, sg=0)\n",
    "model.wv.most_similar('iphone')"
   ]
  },
  {
   "cell_type": "code",
   "execution_count": null,
   "metadata": {},
   "outputs": [],
   "source": []
  }
 ],
 "metadata": {
  "colab": {
   "collapsed_sections": [],
   "name": "mid_ml_nlp_hw-4.ipynb",
   "provenance": []
  },
  "kernelspec": {
   "display_name": "Python 3 (ipykernel)",
   "language": "python",
   "name": "python3"
  },
  "language_info": {
   "codemirror_mode": {
    "name": "ipython",
    "version": 3
   },
   "file_extension": ".py",
   "mimetype": "text/x-python",
   "name": "python",
   "nbconvert_exporter": "python",
   "pygments_lexer": "ipython3",
   "version": "3.8.2"
  }
 },
 "nbformat": 4,
 "nbformat_minor": 4
}
