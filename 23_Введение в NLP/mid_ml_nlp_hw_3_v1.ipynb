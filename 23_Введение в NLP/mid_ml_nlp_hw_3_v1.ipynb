{
 "cells": [
  {
   "cell_type": "markdown",
   "metadata": {
    "id": "vGhDg4qLnDYW"
   },
   "source": [
    "## Урок 3 \n",
    "\n",
    "### Задание начального уровня\n",
    "\n",
    "Потренируйтесь в нахождении матрицы схожести для валидационного сета\n",
    "\n",
    "* загрузите `brand_tweets_valid.csv`\n",
    "* примените объект `vectorizer`, обученный на датасете `brand_tweets.csv` (просто скопируйте этот код из урока)\n",
    "* примените функцию `pairwise_distances` к полученной матрице"
   ]
  },
  {
   "cell_type": "code",
   "execution_count": 1,
   "metadata": {
    "id": "krkc6JvTnDYa"
   },
   "outputs": [
    {
     "data": {
      "text/html": [
       "<div>\n",
       "<style scoped>\n",
       "    .dataframe tbody tr th:only-of-type {\n",
       "        vertical-align: middle;\n",
       "    }\n",
       "\n",
       "    .dataframe tbody tr th {\n",
       "        vertical-align: top;\n",
       "    }\n",
       "\n",
       "    .dataframe thead th {\n",
       "        text-align: right;\n",
       "    }\n",
       "</style>\n",
       "<table border=\"1\" class=\"dataframe\">\n",
       "  <thead>\n",
       "    <tr style=\"text-align: right;\">\n",
       "      <th></th>\n",
       "      <th>tweet_text</th>\n",
       "      <th>emotion_in_tweet_is_directed_at</th>\n",
       "      <th>is_there_an_emotion_directed_at_a_brand_or_product</th>\n",
       "    </tr>\n",
       "  </thead>\n",
       "  <tbody>\n",
       "    <tr>\n",
       "      <th>0</th>\n",
       "      <td>Wow! Google maps for mobile v5 demo at #sxsw. ...</td>\n",
       "      <td>Other Google product or service</td>\n",
       "      <td>Positive emotion</td>\n",
       "    </tr>\n",
       "    <tr>\n",
       "      <th>1</th>\n",
       "      <td>The #google name was built on gettinng stuff o...</td>\n",
       "      <td>Google</td>\n",
       "      <td>Positive emotion</td>\n",
       "    </tr>\n",
       "    <tr>\n",
       "      <th>2</th>\n",
       "      <td>&amp;quot;Apple opening a temporary store in Austi...</td>\n",
       "      <td>NaN</td>\n",
       "      <td>No emotion toward brand or product</td>\n",
       "    </tr>\n",
       "    <tr>\n",
       "      <th>3</th>\n",
       "      <td>#tech Apple Opening Pop-Up Store In Austin For...</td>\n",
       "      <td>Apple</td>\n",
       "      <td>Positive emotion</td>\n",
       "    </tr>\n",
       "    <tr>\n",
       "      <th>4</th>\n",
       "      <td>GSDM Google party is off the hook! #SXSW  {link}</td>\n",
       "      <td>Google</td>\n",
       "      <td>Positive emotion</td>\n",
       "    </tr>\n",
       "  </tbody>\n",
       "</table>\n",
       "</div>"
      ],
      "text/plain": [
       "                                          tweet_text  \\\n",
       "0  Wow! Google maps for mobile v5 demo at #sxsw. ...   \n",
       "1  The #google name was built on gettinng stuff o...   \n",
       "2  &quot;Apple opening a temporary store in Austi...   \n",
       "3  #tech Apple Opening Pop-Up Store In Austin For...   \n",
       "4   GSDM Google party is off the hook! #SXSW  {link}   \n",
       "\n",
       "   emotion_in_tweet_is_directed_at  \\\n",
       "0  Other Google product or service   \n",
       "1                           Google   \n",
       "2                              NaN   \n",
       "3                            Apple   \n",
       "4                           Google   \n",
       "\n",
       "  is_there_an_emotion_directed_at_a_brand_or_product  \n",
       "0                                   Positive emotion  \n",
       "1                                   Positive emotion  \n",
       "2                 No emotion toward brand or product  \n",
       "3                                   Positive emotion  \n",
       "4                                   Positive emotion  "
      ]
     },
     "execution_count": 1,
     "metadata": {},
     "output_type": "execute_result"
    }
   ],
   "source": [
    "import pandas as pd\n",
    "\n",
    "df_valid = pd.read_csv('brand_tweets_valid.csv', sep=',', encoding='utf8')\n",
    "# удаляем строки, в которых отсутствует текст твита\n",
    "df_valid.drop(df_valid[df_valid.tweet_text.isnull()].index, inplace=True)\n",
    "\n",
    "### YOUR CODE HERE ###\n",
    "df_valid.head()\n"
   ]
  },
  {
   "cell_type": "code",
   "execution_count": 2,
   "metadata": {},
   "outputs": [
    {
     "data": {
      "text/plain": [
       "(402, 3)"
      ]
     },
     "execution_count": 2,
     "metadata": {},
     "output_type": "execute_result"
    }
   ],
   "source": [
    "df_valid.shape"
   ]
  },
  {
   "cell_type": "code",
   "execution_count": 3,
   "metadata": {},
   "outputs": [],
   "source": [
    "import nltk\n",
    "import string\n",
    "\n",
    "stop_words = [\n",
    "    'i', 'me', 'my', 'myself', 'we', 'our', 'ours', 'ourselves', 'you', \"you're\", \"you've\", \"you'll\", \"you'd\",\n",
    "    'your', 'yours', 'yourself', 'yourselves', 'he', 'him', 'his', 'himself', 'she', \"she's\", 'her', 'hers',\n",
    "    'herself', 'it', \"it's\", 'its', 'itself', 'they', 'them', 'their', 'theirs', 'themselves', 'what', 'which',\n",
    "    'who', 'whom', 'this', 'that', \"that'll\", 'these', 'those', 'am', 'is', 'are', 'was', 'were', 'be', 'been',\n",
    "    'being', 'have', 'has', 'had', 'having', 'do', 'does', 'did', 'doing', 'a', 'an', 'the', 'and', 'but', 'if',\n",
    "    'or', 'because', 'as', 'until', 'while', 'of', 'at', 'by', 'for', 'with', 'about', 'against', 'between',\n",
    "    'into', 'through', 'during', 'before', 'after', 'above', 'below', 'to', 'from', 'up', 'down', 'in', 'out',\n",
    "    'on', 'off', 'over', 'under', 'again', 'further', 'then', 'once', 'here', 'there', 'when', 'where', 'why',\n",
    "    'how', 'all', 'any', 'both', 'each', 'few', 'more', 'most', 'other', 'some', 'such', 'no', 'nor', 'not',\n",
    "    'only', 'own', 'same', 'so', 'than', 'too', 'very', 's', 't', 'can', 'will', 'just', 'don', \"don't\", 'shold',\n",
    "    \"should've\", 'now', 'd', 'll', 'm', 'o', 're', 've', 'y', 'ain', 'aren', \"aren't\", 'couldn', \"couldn't\",\n",
    "    'didn', \"didn't\", 'doesn', \"doesn't\", 'hadn', \"hadn't\", 'hasn', \"hasn't\", 'haven', \"haven't\", 'isn', \"isn't\",\n",
    "    'ma', 'mightn', \"mightn't\", 'mustn', \"mustn't\", 'needn', \"needn't\", 'shan', \"shan't\", 'shouldn', \"shouldn't\",\n",
    "    'wasn', \"wasn't\", 'weren', \"weren't\", 'won', \"won't\", 'wouldn', \"wouldn't\"\n",
    "]\n",
    "\n",
    "def tokenize_text(raw_text: str):\n",
    "    \"\"\"Функция для токенизации текста\n",
    "    \n",
    "    :param raw_text: исходная текстовая строка\n",
    "    \"\"\"\n",
    "    tokenized_str = nltk.word_tokenize(raw_text)\n",
    "    tokens = [i.lower() for i in tokenized_str if ( i not in string.punctuation )]\n",
    "    filtered_tokens = [i for i in tokens if ( i not in stop_words )]\n",
    "    return filtered_tokens"
   ]
  },
  {
   "cell_type": "code",
   "execution_count": 4,
   "metadata": {},
   "outputs": [
    {
     "data": {
      "text/plain": [
       "<402x1760 sparse matrix of type '<class 'numpy.int64'>'\n",
       "\twith 4927 stored elements in Compressed Sparse Row format>"
      ]
     },
     "execution_count": 4,
     "metadata": {},
     "output_type": "execute_result"
    }
   ],
   "source": [
    "from sklearn.feature_extraction.text import CountVectorizer\n",
    "\n",
    "# инициализируем объект, который токенизирует наш текст\n",
    "# в качестве единственного аргимента передаём функцию, которую мы написали в Уроке 2\n",
    "# на разбивает каждый документ на токены\n",
    "vectorizer = CountVectorizer(tokenizer=tokenize_text)\n",
    "# применяем наш объект-токенизатор к датафрейму с твитами\n",
    "document_matrix = vectorizer.fit_transform(df_valid.tweet_text.values)\n",
    "# результат - матрица, в которой находятся числа, строк в мастрице столько, сколько документов\n",
    "# а столбцов столько, сколько токенов\n",
    "document_matrix"
   ]
  },
  {
   "cell_type": "code",
   "execution_count": 7,
   "metadata": {},
   "outputs": [
    {
     "data": {
      "text/plain": [
       "<402x1760 sparse matrix of type '<class 'numpy.int64'>'\n",
       "\twith 4927 stored elements in Compressed Sparse Row format>"
      ]
     },
     "execution_count": 7,
     "metadata": {},
     "output_type": "execute_result"
    }
   ],
   "source": [
    "document_matrix"
   ]
  },
  {
   "cell_type": "code",
   "execution_count": 13,
   "metadata": {},
   "outputs": [
    {
     "data": {
      "text/plain": [
       "(402, 402)"
      ]
     },
     "execution_count": 13,
     "metadata": {},
     "output_type": "execute_result"
    }
   ],
   "source": [
    "from sklearn.metrics import pairwise_distances\n",
    "\n",
    "tweet_distance = 1-pairwise_distances(document_matrix, metric=\"cosine\")\n",
    "\n",
    "tweet_distance.shape"
   ]
  },
  {
   "cell_type": "code",
   "execution_count": 22,
   "metadata": {},
   "outputs": [
    {
     "data": {
      "text/plain": [
       "array([[1.        , 0.21320072, 0.17149859, ..., 0.18898224, 0.16222142,\n",
       "        0.21320072],\n",
       "       [0.21320072, 1.        , 0.14625448, ..., 0.24174689, 0.20751434,\n",
       "        0.18181818],\n",
       "       [0.17149859, 0.14625448, 1.        , ..., 0.12964074, 0.27820744,\n",
       "        0.14625448],\n",
       "       ...,\n",
       "       [0.18898224, 0.24174689, 0.12964074, ..., 1.        , 0.1839418 ,\n",
       "        0.16116459],\n",
       "       [0.16222142, 0.20751434, 0.27820744, ..., 0.1839418 , 1.        ,\n",
       "        0.13834289],\n",
       "       [0.21320072, 0.18181818, 0.14625448, ..., 0.16116459, 0.13834289,\n",
       "        1.        ]])"
      ]
     },
     "execution_count": 22,
     "metadata": {},
     "output_type": "execute_result"
    }
   ],
   "source": [
    "tweet_distance"
   ]
  },
  {
   "cell_type": "code",
   "execution_count": null,
   "metadata": {},
   "outputs": [],
   "source": []
  },
  {
   "cell_type": "markdown",
   "metadata": {
    "id": "RQ7_b8FbnDYg"
   },
   "source": [
    "### Задание среднего уровня\n",
    "\n",
    "Пользуясь матрицей схожести, полученной на предыдущем этапе, найдите top-5 твитов, похожих на твит валидационного сета с `id=14`."
   ]
  },
  {
   "cell_type": "code",
   "execution_count": 15,
   "metadata": {
    "id": "SgmUriXSnDYh",
    "outputId": "5525b1ec-d86b-4d1a-afea-784afc8bed33"
   },
   "outputs": [
    {
     "name": "stdout",
     "output_type": "stream",
     "text": [
      "Popup Apple Store crew has been giving out water to the people in line but they are in street clothes. No Apple logos anywhere yet. #SXSW\n",
      "------------------------------\n",
      "\n"
     ]
    }
   ],
   "source": [
    "test_tweet_index = 14\n",
    "\n",
    "print(df_valid.iloc[test_tweet_index].tweet_text+'\\n------------------------------\\n')\n",
    "\n",
    "\n",
    "### YOUR CODE HERE ###\n",
    "\n"
   ]
  },
  {
   "cell_type": "code",
   "execution_count": 53,
   "metadata": {},
   "outputs": [
    {
     "data": {
      "text/plain": [
       "array([ 14, 132,  16, 163,   6, 341,  65,  23, 226,  72,  63, 357, 395,\n",
       "        62, 319, 192,   3,  15, 238, 121,  12, 390,  55,  24, 205, 260,\n",
       "       129,  51, 297,  64, 206, 279,  67,   2, 313, 203, 231, 158, 118,\n",
       "       134,  22, 212, 377, 400, 321, 351, 131, 135, 186,  99, 293, 292,\n",
       "       310, 204,  13,  68,   5, 384,  20,  21,  78, 354, 207, 358, 225,\n",
       "       224,  31, 123, 287,  53, 120, 331, 136, 275, 109, 381,  58,  29,\n",
       "        69, 288, 328, 296, 133, 330,  17, 259, 380,  35, 215,  88, 352,\n",
       "       314,  49,  42, 300,  28, 219,  98,  71,  81,  47, 301, 361, 138,\n",
       "       139, 195, 150, 200, 343, 190, 342, 329, 348, 211, 383, 148, 147,\n",
       "       335,  79, 336, 245, 291,  18, 235, 122, 295, 240, 251, 359,  66,\n",
       "       389,  33,  27, 216, 199,  19, 246, 168, 145, 227,   4, 157,  75,\n",
       "       276, 127, 391, 272, 385, 156, 345, 114, 210, 100, 282,  36, 265,\n",
       "       155, 170, 277, 278, 311, 386, 247, 375, 376, 180, 217,   0,  87,\n",
       "        73,  70, 151, 167, 124, 119, 374, 198,  91, 160, 125, 298,  85,\n",
       "        84, 281, 337, 197, 344, 347, 364, 254, 369, 261, 105, 258, 255,\n",
       "       142, 228, 284, 289, 173, 339, 185, 175, 214,  97,  56, 346, 285,\n",
       "       252, 115, 308, 379,  30,   1, 318, 401, 201, 140, 179, 213, 176,\n",
       "        74,  61, 290,  95, 101, 104, 256,  46, 356,  41, 316,   8,  59,\n",
       "       257, 263,  86, 253, 268, 394,  52, 184, 271,  50, 103, 340, 368,\n",
       "       283, 338,  93, 312, 397, 332, 264,  80, 126, 269,  34, 382, 164,\n",
       "         7, 152,   9, 367, 116, 366, 317,  83, 242, 177, 229, 320, 399,\n",
       "       250, 299, 161, 146, 398, 302, 193, 306, 162, 309, 183, 194, 333,\n",
       "       396, 221, 237, 174, 113,  40, 111, 110, 159, 372, 355,  54,  57,\n",
       "       262, 267, 153, 388, 325, 365, 181,  25, 360,  76,  37,  38,  43,\n",
       "       349, 362, 322,  10,  77, 243, 209, 143, 315, 220, 202, 266, 273,\n",
       "       230,  94,  90, 274, 130,  11, 189, 191, 327, 241,  82, 373, 144,\n",
       "       353, 270,  48, 234, 280, 182, 154, 334, 102, 169, 239,  92, 371,\n",
       "       165, 244, 307,  89, 108, 387, 305, 196, 223, 222, 106, 324, 171,\n",
       "        44, 128, 370,  26, 149, 166, 323, 286,  96, 304,  60,  32, 178,\n",
       "       112,  39, 107, 233, 350,  45, 249, 294, 236, 363, 187, 326, 117,\n",
       "       303, 392, 248, 232, 218, 378, 188, 172, 137, 208, 141, 393],\n",
       "      dtype=int64)"
      ]
     },
     "execution_count": 53,
     "metadata": {},
     "output_type": "execute_result"
    }
   ],
   "source": [
    "import numpy as np\n",
    "\n",
    "# отсортируем твиты по “похожести” - чем похожее на source_tweet_index,\n",
    "# тем ближе к началу списка sorted_similarity\n",
    "sorted_similarity = np.argsort(-tweet_distance[test_tweet_index,:])\n",
    "\n",
    "sorted_similarity"
   ]
  },
  {
   "cell_type": "code",
   "execution_count": 54,
   "metadata": {},
   "outputs": [
    {
     "name": "stdout",
     "output_type": "stream",
     "text": [
      "Popup Apple Store crew has been giving out water to the people in line but they are in street clothes. No Apple logos anywhere yet. #SXSW\n",
      "-------------\n",
      "Apple employees just showed up in force to the #SXSW PopUp Apple Store. #iPad2\n",
      "-------------\n",
      "#sxsw apple store run out for the day :( boo apple.\n",
      "-------------\n",
      "video from the popup Apple store: {link} #sxsw #sxswi\n",
      "-------------\n",
      "#SXSW Apple Pop Up Store still has iPads in stock, we are waiting on line {link} via @mention #apple #ipad2‰Ыќ\n",
      "-------------\n",
      "Wanting in line at the unconfirmed Apple pop-up store for an iPad 2. #sxsw\n",
      "-------------\n"
     ]
    }
   ],
   "source": [
    "for i in range(6):\n",
    "    print(df_valid.iloc[sorted_similarity[i]].tweet_text)\n",
    "    print('-------------')"
   ]
  },
  {
   "cell_type": "code",
   "execution_count": null,
   "metadata": {},
   "outputs": [],
   "source": []
  },
  {
   "cell_type": "markdown",
   "metadata": {
    "id": "HdW_C-ninDYm"
   },
   "source": [
    "### Задание высокого уровня.\n",
    "\n",
    "У вас есть матрица схожести между объектами. Попробуйте решить задачу поиска дубликатов в тексте\n",
    "\n",
    "1. Визуализируйте гистограмму значений в матрице схожести.\n",
    "1. Напишите функцию на Python, которая принимает индекс твита, пороговое значение (число от $0.0$ до $1.0$ и матрицу схожести, а затем выводит все твиты, схожесть которых больше, чем пороговое значение."
   ]
  },
  {
   "cell_type": "code",
   "execution_count": 181,
   "metadata": {
    "id": "tEVocl2mnDYn"
   },
   "outputs": [],
   "source": [
    "### YOUR CODE HERE ###\n",
    "from matplotlib import pyplot as plt\n",
    "\n",
    "%matplotlib inline\n",
    "\n",
    "### YOUR CODE HERE ###\n",
    "\n"
   ]
  },
  {
   "cell_type": "code",
   "execution_count": 182,
   "metadata": {},
   "outputs": [
    {
     "data": {
      "image/png": "[encoded data removed]",
      "text/plain": [
       "<Figure size 432x288 with 1 Axes>"
      ]
     },
     "metadata": {
      "needs_background": "light"
     },
     "output_type": "display_data"
    }
   ],
   "source": [
    "plt.hist(tweet_distance)\n",
    "plt.grid()\n",
    "plt.show()"
   ]
  },
  {
   "cell_type": "code",
   "execution_count": 183,
   "metadata": {},
   "outputs": [],
   "source": [
    "def func(index, porog, matr):\n",
    "    matr_sort = np.sort(-matr[index,:][matr[index,:] > porog]) #отсортированная матрица\n",
    "    matr_index_sort = []\n",
    "    for i in range(len(matr_sort)):\n",
    "        matr_index_sort.append(np.where(-matr[index,:] == matr_sort[i])[0][0]) #отсортированные индексы матрицы\n",
    "        \n",
    "    for i in range(len(matr_index_sort)):\n",
    "        print(df_valid.iloc[matr_index_sort[i]].tweet_text)\n",
    "        print('-------------')"
   ]
  },
  {
   "cell_type": "code",
   "execution_count": 184,
   "metadata": {},
   "outputs": [],
   "source": [
    "index = 14\n",
    "porog = 0.5\n",
    "matr = tweet_distance"
   ]
  },
  {
   "cell_type": "code",
   "execution_count": 185,
   "metadata": {
    "tags": []
   },
   "outputs": [
    {
     "name": "stdout",
     "output_type": "stream",
     "text": [
      "Popup Apple Store crew has been giving out water to the people in line but they are in street clothes. No Apple logos anywhere yet. #SXSW\n",
      "-------------\n",
      "Apple employees just showed up in force to the #SXSW PopUp Apple Store. #iPad2\n",
      "-------------\n"
     ]
    }
   ],
   "source": [
    "func(index, porog, matr)"
   ]
  },
  {
   "cell_type": "code",
   "execution_count": null,
   "metadata": {},
   "outputs": [],
   "source": []
  }
 ],
 "metadata": {
  "colab": {
   "collapsed_sections": [],
   "name": "mid_ml_nlp_hw-3.ipynb",
   "provenance": []
  },
  "kernelspec": {
   "display_name": "Python 3 (ipykernel)",
   "language": "python",
   "name": "python3"
  },
  "language_info": {
   "codemirror_mode": {
    "name": "ipython",
    "version": 3
   },
   "file_extension": ".py",
   "mimetype": "text/x-python",
   "name": "python",
   "nbconvert_exporter": "python",
   "pygments_lexer": "ipython3",
   "version": "3.8.2"
  }
 },
 "nbformat": 4,
 "nbformat_minor": 4
}
