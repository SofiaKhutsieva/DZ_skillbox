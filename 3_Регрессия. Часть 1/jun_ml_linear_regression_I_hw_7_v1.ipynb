{
 "cells": [
  {
   "cell_type": "markdown",
   "metadata": {
    "id": "Kj4RcGot8CZV"
   },
   "source": [
    "### Урок 7. Домашняя работа\n",
    "\n",
    "У вас есть два набора точек – истинные значения *y_true* и предсказанные значения *y_pred*\n",
    "\n",
    "* для каждой точки из *y_true* постройте величину ошибки $e = y-\\hat{y}$ – это называется **остатки регрессии**\n",
    "* возведите ошибки в квадрат $e^2$\n",
    "* постройте график ошибок – зависимость $e^2$ от $e$"
   ]
  },
  {
   "cell_type": "code",
   "execution_count": 1,
   "metadata": {
    "id": "YS5vFeVt8CZb"
   },
   "outputs": [],
   "source": [
    "import numpy as np\n",
    "\n",
    "y_pred_ = np.array([30.0, 25.03, 30.57, 28.61, 27.94, 25.26, 23.0, 19.54, 11.52, 18.92, 19.0, 21.59, 20.91, 19.55, 19.28, 19.3, 20.53, 16.91, 16.18, 18.41, 12.52, 17.67, 15.83, 13.81, 15.68, 13.39, 15.46, 14.71, 19.55, 20.88, 11.46, 18.06, 8.81, 14.28, 13.71, 23.81, 22.34, 23.11, 22.92, 31.36])\n",
    "y_true_ = np.array([24.0, 21.6, 34.7, 33.4, 36.2, 28.7, 22.9, 27.1, 16.5, 18.9, 15.0, 18.9, 21.7, 20.4, 18.2, 19.9, 23.1, 17.5, 20.2, 18.2, 13.6, 19.6, 15.2, 14.5, 15.6, 13.9, 16.6, 14.8, 18.4, 21.0, 12.7, 14.5, 13.2, 13.1, 13.5, 18.9, 20.0, 21.0, 24.7, 30.8])"
   ]
  },
  {
   "cell_type": "markdown",
   "metadata": {
    "id": "Msa1g5qv8CZq"
   },
   "source": [
    "График должен получится вот такой:\n",
    "\n",
    "![experiment_errors](https://sun9-50.userapi.com/c856120/v856120638/1e9be0/3m-6-p2kZfk.jpg)"
   ]
  },
  {
   "cell_type": "code",
   "execution_count": 2,
   "metadata": {
    "id": "rkZUITeD8CZt"
   },
   "outputs": [],
   "source": [
    "from matplotlib import pyplot as plt\n",
    "\n",
    "%matplotlib inline\n",
    "\n",
    "# -- ВАШ КОД ТУТ --\n"
   ]
  },
  {
   "cell_type": "code",
   "execution_count": 3,
   "metadata": {
    "scrolled": true
   },
   "outputs": [
    {
     "data": {
      "text/plain": [
       "[-6.0,\n",
       " -3.4299999999999997,\n",
       " 4.130000000000003,\n",
       " 4.789999999999999,\n",
       " 8.260000000000002,\n",
       " 3.4399999999999977,\n",
       " -0.10000000000000142,\n",
       " 7.560000000000002,\n",
       " 4.98,\n",
       " -0.020000000000003126,\n",
       " -4.0,\n",
       " -2.6900000000000013,\n",
       " 0.7899999999999991,\n",
       " 0.8499999999999979,\n",
       " -1.0800000000000018,\n",
       " 0.5999999999999979,\n",
       " 2.5700000000000003,\n",
       " 0.5899999999999999,\n",
       " 4.02,\n",
       " -0.21000000000000085,\n",
       " 1.08,\n",
       " 1.9299999999999997,\n",
       " -0.6300000000000008,\n",
       " 0.6899999999999995,\n",
       " -0.08000000000000007,\n",
       " 0.5099999999999998,\n",
       " 1.1400000000000006,\n",
       " 0.08999999999999986,\n",
       " -1.1500000000000021,\n",
       " 0.120000000000001,\n",
       " 1.2399999999999984,\n",
       " -3.5599999999999987,\n",
       " 4.389999999999999,\n",
       " -1.1799999999999997,\n",
       " -0.21000000000000085,\n",
       " -4.91,\n",
       " -2.34,\n",
       " -2.1099999999999994,\n",
       " 1.7799999999999976,\n",
       " -0.5599999999999987]"
      ]
     },
     "execution_count": 3,
     "metadata": {},
     "output_type": "execute_result"
    }
   ],
   "source": [
    "e = []\n",
    "for i in range (len (y_pred_)):\n",
    "    e.append(y_true_[i] - y_pred_[i])\n",
    "e"
   ]
  },
  {
   "cell_type": "code",
   "execution_count": 4,
   "metadata": {
    "scrolled": true
   },
   "outputs": [
    {
     "data": {
      "text/plain": [
       "[36.0,\n",
       " 11.764899999999997,\n",
       " 17.05690000000002,\n",
       " 22.94409999999999,\n",
       " 68.22760000000002,\n",
       " 11.833599999999985,\n",
       " 0.010000000000000285,\n",
       " 57.15360000000003,\n",
       " 24.800400000000003,\n",
       " 0.0004000000000001251,\n",
       " 16.0,\n",
       " 7.236100000000007,\n",
       " 0.6240999999999987,\n",
       " 0.7224999999999964,\n",
       " 1.166400000000004,\n",
       " 0.35999999999999743,\n",
       " 6.6049000000000015,\n",
       " 0.34809999999999985,\n",
       " 16.160399999999996,\n",
       " 0.04410000000000036,\n",
       " 1.1664,\n",
       " 3.724899999999999,\n",
       " 0.396900000000001,\n",
       " 0.4760999999999993,\n",
       " 0.006400000000000012,\n",
       " 0.2600999999999998,\n",
       " 1.2996000000000012,\n",
       " 0.008099999999999975,\n",
       " 1.322500000000005,\n",
       " 0.014400000000000239,\n",
       " 1.537599999999996,\n",
       " 12.673599999999992,\n",
       " 19.27209999999999,\n",
       " 1.3923999999999994,\n",
       " 0.04410000000000036,\n",
       " 24.1081,\n",
       " 5.475599999999999,\n",
       " 4.452099999999998,\n",
       " 3.1683999999999912,\n",
       " 0.31359999999999855]"
      ]
     },
     "execution_count": 4,
     "metadata": {},
     "output_type": "execute_result"
    }
   ],
   "source": [
    "e_2 = []\n",
    "for i in range (len (y_pred_)):\n",
    "    e_2.append(e[i] ** 2)\n",
    "e_2"
   ]
  },
  {
   "cell_type": "code",
   "execution_count": 5,
   "metadata": {},
   "outputs": [
    {
     "data": {
      "image/png": "[encoded data removed]",
      "text/plain": [
       "<Figure size 720x360 with 1 Axes>"
      ]
     },
     "metadata": {
      "needs_background": "light"
     },
     "output_type": "display_data"
    }
   ],
   "source": [
    "plt.figure(figsize=(10, 5)) \n",
    "plt.scatter(e, e_2, color = 'g', label = 'линейная регрессия')\n",
    "plt.xlabel('остатки регрессии', fontsize=12)\n",
    "plt.ylabel('остатки регрессии в квадрате', fontsize=12)\n",
    "plt.title('Зависимость e_2 от e', fontsize=12)\n",
    "plt.grid()\n",
    "plt.show()"
   ]
  },
  {
   "cell_type": "code",
   "execution_count": null,
   "metadata": {},
   "outputs": [],
   "source": []
  }
 ],
 "metadata": {
  "colab": {
   "collapsed_sections": [],
   "name": "jun_ml_linear_regression_I-hw_7.ipynb",
   "provenance": []
  },
  "kernelspec": {
   "display_name": "Python 3",
   "language": "python",
   "name": "python3"
  },
  "language_info": {
   "codemirror_mode": {
    "name": "ipython",
    "version": 3
   },
   "file_extension": ".py",
   "mimetype": "text/x-python",
   "name": "python",
   "nbconvert_exporter": "python",
   "pygments_lexer": "ipython3",
   "version": "3.7.6"
  }
 },
 "nbformat": 4,
 "nbformat_minor": 1
}
