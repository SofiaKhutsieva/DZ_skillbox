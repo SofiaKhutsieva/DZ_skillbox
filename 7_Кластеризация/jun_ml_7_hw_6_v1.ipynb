{
 "cells": [
  {
   "cell_type": "markdown",
   "metadata": {
    "id": "B3KaF1cvPTEr"
   },
   "source": [
    "## Урок 10. Домашнее задание \n",
    "\n",
    "### 10.1 Домашнее задание начального уровня\n",
    "\n",
    "Обучите *k-means* для количества кластеров $k=4$ на датасете `data/clustering.pkl`. Как изменилась метрика силуэтта? Стало лучше или хуже? Какое количество кластеров лучше, два или четыре?"
   ]
  },
  {
   "cell_type": "code",
   "execution_count": 98,
   "metadata": {
    "id": "4EerOYSgPTEu"
   },
   "outputs": [],
   "source": [
    "# -- ВАШ КОД ТУТ --\n",
    "import pickle\n",
    "import numpy as np\n",
    "import pandas as pd\n",
    "import matplotlib.pyplot as plt\n",
    "\n",
    "from sklearn.cluster import KMeans\n",
    "from sklearn.metrics import silhouette_score # метрика Силуэтта\n",
    "from sklearn.metrics.cluster import adjusted_mutual_info_score # метрика AMI\n",
    "from sklearn.metrics.pairwise import euclidean_distances # метрика эвклидово расстояние"
   ]
  },
  {
   "cell_type": "code",
   "execution_count": 106,
   "metadata": {},
   "outputs": [],
   "source": [
    "import pickle\n",
    "import numpy as np\n",
    "\n",
    "# данные получены с помощью функции make_classification \n",
    "with open('clustering.pkl', 'rb') as f:\n",
    "    data_clustering = pickle.load(f)\n",
    "\n",
    "X = np.array(data_clustering['X'])\n",
    "Y = np.array(data_clustering['Y'])"
   ]
  },
  {
   "cell_type": "code",
   "execution_count": 107,
   "metadata": {
    "scrolled": true
   },
   "outputs": [
    {
     "data": {
      "text/plain": [
       "array([[ 0.87603609,  0.62413841],\n",
       "       [-0.59721916, -0.59190989],\n",
       "       [ 0.51495945, -0.30713853],\n",
       "       [ 0.7034278 ,  0.28387307],\n",
       "       [-1.58380208,  0.47433936],\n",
       "       [-1.89264212, -1.27703905],\n",
       "       [-1.02176144, -0.38446059],\n",
       "       [-0.62827134, -2.30814935],\n",
       "       [-0.71809158,  1.18055509],\n",
       "       [ 1.3326625 ,  1.50041396],\n",
       "       [-1.54314377, -1.41637914],\n",
       "       [ 1.36973405,  0.08368168],\n",
       "       [ 0.0221037 , -1.12794789],\n",
       "       [-0.77765189, -0.41575325],\n",
       "       [ 0.15878937,  0.79493996],\n",
       "       [-1.20735773, -1.13085237],\n",
       "       [-1.25958985, -0.44891921],\n",
       "       [ 1.16168447, -0.22904005],\n",
       "       [-0.83545665,  0.0704683 ],\n",
       "       [ 2.08364608,  0.57341134],\n",
       "       [ 1.33131197,  1.00815304],\n",
       "       [ 0.76205687,  0.419355  ],\n",
       "       [-0.77700391, -1.10004302],\n",
       "       [-1.17619766, -0.11516798],\n",
       "       [ 1.61888431, -0.81956962],\n",
       "       [-1.26810263,  0.58652856],\n",
       "       [ 1.04546445,  0.10600911],\n",
       "       [ 0.78972191, -0.44199715],\n",
       "       [ 0.97669487,  0.50043361],\n",
       "       [-0.55931758, -0.84024497],\n",
       "       [ 1.52033982,  0.42002372],\n",
       "       [-0.59937975,  1.40450065],\n",
       "       [ 0.39398112,  2.34973308],\n",
       "       [ 0.58676858,  0.19483048],\n",
       "       [ 0.83561168,  3.03375261],\n",
       "       [-1.64878143, -0.11866418],\n",
       "       [-0.87674345,  1.1119385 ],\n",
       "       [-0.50754771,  0.32908277],\n",
       "       [-1.10578923,  0.27896868],\n",
       "       [ 0.85702381, -0.61809192],\n",
       "       [-1.11363992, -0.50525643],\n",
       "       [ 0.68530956, -0.51032914],\n",
       "       [-1.31945608,  0.63135355],\n",
       "       [-0.87005034, -1.00020408],\n",
       "       [-0.87861256,  1.88254203],\n",
       "       [ 0.93326564,  0.5880323 ],\n",
       "       [ 0.44960481, -1.14186839],\n",
       "       [ 0.84573891,  0.28484753],\n",
       "       [ 1.36594129, -0.92186637],\n",
       "       [ 1.38361655, -1.26970652],\n",
       "       [-0.9716596 ,  0.96712016],\n",
       "       [-0.41701592, -0.58295671],\n",
       "       [-1.33043746,  1.47338333],\n",
       "       [-0.77827218,  1.98701464],\n",
       "       [ 0.85902412, -2.04174128],\n",
       "       [-1.15389757,  1.39721702],\n",
       "       [-0.61007099, -0.56359738],\n",
       "       [-1.94252314, -1.26575563],\n",
       "       [-0.66603278,  1.99936239],\n",
       "       [ 1.24028804,  0.00994522],\n",
       "       [ 0.55895037,  1.3160141 ],\n",
       "       [-0.5015501 ,  0.15380599],\n",
       "       [-0.54565836, -0.34203909],\n",
       "       [ 0.92647094, -0.90524377],\n",
       "       [ 1.16671943, -0.18694498],\n",
       "       [-0.9481454 , -1.04051117],\n",
       "       [ 1.46053081,  0.8952081 ],\n",
       "       [-0.82945033, -0.39848676],\n",
       "       [ 1.04505165, -0.11490817],\n",
       "       [-0.49980547, -0.01404552],\n",
       "       [ 1.34601876,  1.13395207],\n",
       "       [-0.93198393, -1.32590761],\n",
       "       [-1.22147693, -0.24115941],\n",
       "       [ 0.65872901, -1.31272325],\n",
       "       [ 1.20481983,  1.33192189],\n",
       "       [ 1.44449906,  1.29842062],\n",
       "       [-1.73419027,  1.02681871],\n",
       "       [-0.86859103,  0.83773615],\n",
       "       [-1.04695133, -0.63907632],\n",
       "       [ 0.98311403,  1.25653394],\n",
       "       [-0.48173418,  0.69313303],\n",
       "       [ 1.04529243,  0.28910333],\n",
       "       [ 1.49189076, -0.20865405],\n",
       "       [ 1.54187576, -1.35840447],\n",
       "       [ 0.64033425,  0.02162296],\n",
       "       [ 0.50428885,  0.9729882 ],\n",
       "       [ 0.75081645, -0.77270801],\n",
       "       [ 0.8035896 , -0.80613893],\n",
       "       [-1.36461001, -0.4894895 ],\n",
       "       [-1.5054569 , -0.51336723],\n",
       "       [-0.8438048 , -1.57903522],\n",
       "       [ 1.33069254, -1.37095825],\n",
       "       [-1.18581501,  0.838211  ],\n",
       "       [ 0.47522793,  0.1984521 ],\n",
       "       [ 1.06077071,  0.66509281],\n",
       "       [-1.15072151,  0.76828815],\n",
       "       [-0.59786627,  0.05227956],\n",
       "       [ 0.48508802, -0.5600421 ],\n",
       "       [ 0.69344764, -0.4683347 ],\n",
       "       [ 0.59624227, -0.70427248]])"
      ]
     },
     "execution_count": 107,
     "metadata": {},
     "output_type": "execute_result"
    }
   ],
   "source": [
    "X"
   ]
  },
  {
   "cell_type": "code",
   "execution_count": 109,
   "metadata": {},
   "outputs": [
    {
     "name": "stdout",
     "output_type": "stream",
     "text": [
      "n_clusters = 2\n",
      "Качество кластеризации по метрике силуэтта 0.447\n",
      "Качество кластеризации по метрике AMI 0.929\n",
      "n_clusters = 3\n",
      "Качество кластеризации по метрике силуэтта 0.452\n",
      "Качество кластеризации по метрике AMI 0.614\n",
      "n_clusters = 4\n",
      "Качество кластеризации по метрике силуэтта 0.443\n",
      "Качество кластеризации по метрике AMI 0.584\n"
     ]
    }
   ],
   "source": [
    "for i in range(2, 5):\n",
    "    print(\"n_clusters = %d\" % i)\n",
    "    model = KMeans(n_clusters= i).fit(X)\n",
    "    score = silhouette_score(X, model.labels_)\n",
    "    print(\"Качество кластеризации по метрике силуэтта %.3f\" % score)\n",
    "    score = adjusted_mutual_info_score(Y, model.labels_, average_method='arithmetic')\n",
    "    print(\"Качество кластеризации по метрике AMI %.3f\" % score)"
   ]
  },
  {
   "cell_type": "code",
   "execution_count": 42,
   "metadata": {},
   "outputs": [],
   "source": [
    "model = KMeans(n_clusters=4).fit(X)"
   ]
  },
  {
   "cell_type": "code",
   "execution_count": 43,
   "metadata": {},
   "outputs": [
    {
     "data": {
      "image/png": "[encoded data removed]",
      "text/plain": [
       "<Figure size 432x288 with 1 Axes>"
      ]
     },
     "metadata": {
      "needs_background": "light"
     },
     "output_type": "display_data"
    }
   ],
   "source": [
    "plt.scatter(X[:, 0], X[:, 1], s=40, c=model.labels_, marker='o', alpha=0.8)\n",
    "plt.show()"
   ]
  },
  {
   "cell_type": "code",
   "execution_count": 44,
   "metadata": {},
   "outputs": [
    {
     "name": "stdout",
     "output_type": "stream",
     "text": [
      "Качество кластеризации по метрике силуэтта 0.442\n"
     ]
    }
   ],
   "source": [
    "score = silhouette_score(X, model.labels_)\n",
    "\n",
    "print(\"Качество кластеризации по метрике силуэтта %.3f\" % score)"
   ]
  },
  {
   "cell_type": "code",
   "execution_count": 31,
   "metadata": {},
   "outputs": [],
   "source": [
    "# метрика ухудшилась, лучше 2 кластера"
   ]
  },
  {
   "cell_type": "code",
   "execution_count": null,
   "metadata": {},
   "outputs": [],
   "source": []
  },
  {
   "cell_type": "markdown",
   "metadata": {
    "id": "iUCVoJeaPTEz"
   },
   "source": [
    "\n",
    "### 10.2 Домашнее задание начального уровня\n",
    "\n",
    "Обучите *k-means* для количества кластеров $k=4$ на датасете `data/clustering.pkl`. Как изменилась метрика *AMI*? Стало лучше или хуже? Какое количество кластеров лучше по метрике AMI?"
   ]
  },
  {
   "cell_type": "code",
   "execution_count": 32,
   "metadata": {
    "id": "Q6sYr2h3PTE1"
   },
   "outputs": [
    {
     "name": "stdout",
     "output_type": "stream",
     "text": [
      "Качество кластеризации по метрике AMI 0.582\n"
     ]
    }
   ],
   "source": [
    "# -- ВАШ КОД ТУТ --\n",
    "score = adjusted_mutual_info_score(Y, model.labels_, average_method='arithmetic')\n",
    "\n",
    "print(\"Качество кластеризации по метрике AMI %.3f\" % score)"
   ]
  },
  {
   "cell_type": "code",
   "execution_count": 33,
   "metadata": {},
   "outputs": [],
   "source": [
    "# метрика ухудшилась, лучше 2 кластера"
   ]
  },
  {
   "cell_type": "code",
   "execution_count": null,
   "metadata": {},
   "outputs": [],
   "source": []
  },
  {
   "cell_type": "markdown",
   "metadata": {
    "id": "fY8FY1FcPTE4"
   },
   "source": [
    "\n",
    "### 10.3 Домашнее задание высокого уровня\n",
    "\n",
    "Загрузите датасет `clustering_hw.csv` из приложенной директории `data` и визуализируйте данные. Должно получится как-то так:\n",
    "\n",
    "![clustering_hw](https://248006.selcdn.ru/public/DS.%20Block%202.%20M7/clustering_hw.png)\n",
    "\n",
    "В рамках домашней работы\n",
    "\n",
    "1. вычислите оптимальное количество кластеров $k$\n",
    "1. обучите k-means с количеством кластеров  $k$\n",
    "1. к какому кластеру принадлежит точка $x=(5, 8)$? к какому кластеру принадлежит точка $x=(0, 5)$? Они принадлежат к разным кластерам или одному?\n",
    "1. Каково качество кластеризации по AMI"
   ]
  },
  {
   "cell_type": "markdown",
   "metadata": {},
   "source": [
    "## 1"
   ]
  },
  {
   "cell_type": "code",
   "execution_count": 52,
   "metadata": {},
   "outputs": [
    {
     "data": {
      "text/html": [
       "<div>\n",
       "<style scoped>\n",
       "    .dataframe tbody tr th:only-of-type {\n",
       "        vertical-align: middle;\n",
       "    }\n",
       "\n",
       "    .dataframe tbody tr th {\n",
       "        vertical-align: top;\n",
       "    }\n",
       "\n",
       "    .dataframe thead th {\n",
       "        text-align: right;\n",
       "    }\n",
       "</style>\n",
       "<table border=\"1\" class=\"dataframe\">\n",
       "  <thead>\n",
       "    <tr style=\"text-align: right;\">\n",
       "      <th></th>\n",
       "      <th>x1</th>\n",
       "      <th>x2</th>\n",
       "      <th>y</th>\n",
       "    </tr>\n",
       "  </thead>\n",
       "  <tbody>\n",
       "    <tr>\n",
       "      <th>0</th>\n",
       "      <td>6.221343</td>\n",
       "      <td>4.968753</td>\n",
       "      <td>2</td>\n",
       "    </tr>\n",
       "    <tr>\n",
       "      <th>1</th>\n",
       "      <td>7.360892</td>\n",
       "      <td>8.857455</td>\n",
       "      <td>2</td>\n",
       "    </tr>\n",
       "    <tr>\n",
       "      <th>2</th>\n",
       "      <td>-0.108178</td>\n",
       "      <td>4.730723</td>\n",
       "      <td>1</td>\n",
       "    </tr>\n",
       "    <tr>\n",
       "      <th>3</th>\n",
       "      <td>3.127358</td>\n",
       "      <td>1.927986</td>\n",
       "      <td>0</td>\n",
       "    </tr>\n",
       "    <tr>\n",
       "      <th>4</th>\n",
       "      <td>-0.817259</td>\n",
       "      <td>6.759974</td>\n",
       "      <td>1</td>\n",
       "    </tr>\n",
       "  </tbody>\n",
       "</table>\n",
       "</div>"
      ],
      "text/plain": [
       "         x1        x2  y\n",
       "0  6.221343  4.968753  2\n",
       "1  7.360892  8.857455  2\n",
       "2 -0.108178  4.730723  1\n",
       "3  3.127358  1.927986  0\n",
       "4 -0.817259  6.759974  1"
      ]
     },
     "execution_count": 52,
     "metadata": {},
     "output_type": "execute_result"
    }
   ],
   "source": [
    "df = pd.read_csv('7.10_clustering_hw.csv')\n",
    "df.head()"
   ]
  },
  {
   "cell_type": "code",
   "execution_count": 67,
   "metadata": {
    "scrolled": true
   },
   "outputs": [
    {
     "data": {
      "text/plain": [
       "(array([[ 6.22134340e+00,  4.96875257e+00],\n",
       "        [ 7.36089211e+00,  8.85745517e+00],\n",
       "        [-1.08177799e-01,  4.73072345e+00],\n",
       "        [ 3.12735827e+00,  1.92798607e+00],\n",
       "        [-8.17259333e-01,  6.75997401e+00],\n",
       "        [-4.53953063e-01,  5.13148343e+00],\n",
       "        [ 1.86343462e-01,  5.41642130e+00],\n",
       "        [ 3.02666005e-01,  4.54470960e+00],\n",
       "        [ 1.77307347e+00,  5.43644781e+00],\n",
       "        [-2.01194999e-01,  6.36651577e+00],\n",
       "        [ 7.53677894e+00,  6.80970021e+00],\n",
       "        [ 2.20731177e+00,  3.45620756e+00],\n",
       "        [-2.88797561e-01,  5.14658347e+00],\n",
       "        [-9.16017813e-01,  6.80423821e+00],\n",
       "        [ 3.16354043e-01,  3.92677632e+00],\n",
       "        [ 3.89160565e+00,  2.60897948e+00],\n",
       "        [ 4.08313985e+00,  4.35087130e+00],\n",
       "        [-8.28687021e-02,  5.44073623e+00],\n",
       "        [ 3.89736756e+00,  2.78988611e+00],\n",
       "        [ 8.17438634e-01,  5.88162649e+00],\n",
       "        [ 7.18583278e+00,  7.54925513e+00],\n",
       "        [ 3.15082847e+00,  2.07989415e+00],\n",
       "        [ 1.28227087e+00,  4.61542980e+00],\n",
       "        [ 4.61794380e+00,  3.19524234e+00],\n",
       "        [ 1.25793465e+00,  5.27621661e+00],\n",
       "        [ 3.99044862e+00,  4.15619092e+00],\n",
       "        [ 1.57954276e+00,  6.54125564e+00],\n",
       "        [ 8.73668827e+00,  8.12632194e+00],\n",
       "        [ 8.16629688e-01,  4.04517578e+00],\n",
       "        [ 6.79288099e+00,  5.90378532e+00],\n",
       "        [-2.11738946e-01,  5.07838659e+00],\n",
       "        [ 4.15979915e+00,  1.80348574e+00],\n",
       "        [ 7.56542825e+00,  7.37725236e+00],\n",
       "        [ 4.21957191e+00,  1.81484468e+00],\n",
       "        [ 4.08136324e+00,  1.74169740e+00],\n",
       "        [ 3.77801030e+00,  3.10777088e+00],\n",
       "        [ 5.45430591e+00,  1.69658693e+00],\n",
       "        [ 7.61429283e+00,  4.81310745e+00],\n",
       "        [ 1.39477967e+00,  5.28431118e+00],\n",
       "        [ 7.76269336e+00,  7.23405283e+00],\n",
       "        [-3.15544140e-01,  4.75707273e+00],\n",
       "        [-6.23237095e-01,  3.31753223e+00],\n",
       "        [ 3.66941324e-01,  5.52290662e+00],\n",
       "        [ 7.10175018e+00,  8.35744120e+00],\n",
       "        [-1.46339737e+00,  7.48841595e+00],\n",
       "        [-1.20169546e+00,  5.18014563e+00],\n",
       "        [ 8.48527072e+00,  7.72413803e+00],\n",
       "        [ 8.78760804e+00,  7.90790585e+00],\n",
       "        [-9.67735940e-01,  4.83567212e+00],\n",
       "        [ 6.71754134e+00,  6.41630389e+00],\n",
       "        [ 1.14421182e+00,  5.25651851e+00],\n",
       "        [ 8.51777053e+00,  6.74195155e+00],\n",
       "        [ 7.48324758e+00,  6.02603797e+00],\n",
       "        [ 1.72410138e-01,  4.68758837e+00],\n",
       "        [ 3.00882442e+00,  1.77250315e+00],\n",
       "        [ 7.70013952e+00,  6.28649176e+00],\n",
       "        [ 2.64951319e+00,  3.06278675e+00],\n",
       "        [ 3.47019149e+00,  5.69060346e-01],\n",
       "        [ 4.84541204e+00,  2.51416034e+00],\n",
       "        [-7.54746721e-02,  5.81334011e+00],\n",
       "        [ 7.55731909e+00,  7.31941394e+00],\n",
       "        [ 6.01481088e-01,  7.73047701e+00],\n",
       "        [ 5.47531345e+00,  1.62966673e+00],\n",
       "        [ 6.73370235e+00,  7.79433202e+00],\n",
       "        [ 7.38926758e+00,  8.70872068e+00],\n",
       "        [ 7.82402191e+00,  8.43704579e+00],\n",
       "        [ 1.21736459e-01,  5.38916447e+00],\n",
       "        [ 6.00960930e+00,  5.91790084e+00],\n",
       "        [ 4.66310874e+00,  2.17357416e+00],\n",
       "        [ 1.96699420e+00,  2.95121122e+00],\n",
       "        [-4.92900838e-01,  4.59451892e+00],\n",
       "        [ 8.61979824e+00,  6.29287342e+00],\n",
       "        [ 6.30406456e+00,  1.81407998e+00],\n",
       "        [-4.84775312e-01,  4.19339139e+00],\n",
       "        [ 8.43233386e+00,  6.55620579e+00],\n",
       "        [ 6.55625646e+00,  7.87395480e+00],\n",
       "        [ 4.64562935e+00,  3.52078448e+00],\n",
       "        [ 4.91463265e+00,  1.57382230e+00],\n",
       "        [ 9.05989870e+00,  7.11333673e+00],\n",
       "        [-1.79678713e+00,  4.28299447e+00],\n",
       "        [ 3.18326375e-01,  5.74996628e+00],\n",
       "        [ 3.08878144e+00,  4.01123059e+00],\n",
       "        [ 3.58377707e+00,  1.81977546e+00],\n",
       "        [ 8.32245932e+00,  5.81084255e+00],\n",
       "        [ 7.44561157e+00,  8.64885864e+00],\n",
       "        [ 2.94418666e+00,  2.37645133e+00],\n",
       "        [ 8.00374518e+00,  7.19326701e+00],\n",
       "        [ 3.59869749e-01,  5.24145022e+00],\n",
       "        [ 4.82045997e+00,  1.23870696e+00],\n",
       "        [ 7.32087774e+00,  7.12173461e+00],\n",
       "        [-6.80333577e-02,  3.23475855e+00],\n",
       "        [ 8.77298080e+00,  7.87242848e+00],\n",
       "        [ 4.03644044e+00,  1.77169860e+00],\n",
       "        [ 7.18049256e+00,  8.35216606e+00],\n",
       "        [ 7.81129394e+00,  5.51257342e+00],\n",
       "        [ 5.48485946e+00,  1.94283523e+00],\n",
       "        [ 3.19493797e+00,  4.85291284e+00],\n",
       "        [-9.47639357e-01,  5.92676577e+00],\n",
       "        [ 9.08106455e+00,  8.30793638e+00],\n",
       "        [ 4.31747195e+00,  6.70749881e-01],\n",
       "        [ 7.13654079e+00,  7.69711293e+00],\n",
       "        [ 6.44656729e-01,  6.76011473e+00],\n",
       "        [-5.80804010e-01,  5.76670513e+00],\n",
       "        [-6.96809160e-01,  6.89568499e+00],\n",
       "        [ 8.80737748e+00,  6.23689268e+00],\n",
       "        [-7.30088879e-01,  3.42330203e+00],\n",
       "        [-1.68982725e-02,  3.42071813e+00],\n",
       "        [ 4.82688270e+00,  1.58795553e+00],\n",
       "        [ 2.07025010e+00,  2.23259937e+00],\n",
       "        [ 5.78831195e+00,  6.97355307e+00],\n",
       "        [ 7.16202246e+00,  4.61117871e+00],\n",
       "        [-1.59663926e-01,  4.71184866e+00],\n",
       "        [ 7.70965501e+00,  1.05044596e+01],\n",
       "        [ 3.31460300e+00,  1.99554650e+00],\n",
       "        [-1.24522561e-01,  4.06836243e+00],\n",
       "        [ 3.09349519e+00,  2.08103522e+00],\n",
       "        [ 7.02013556e+00,  6.37289751e+00],\n",
       "        [ 7.40078296e+00,  8.84118814e+00],\n",
       "        [ 4.55001432e+00,  3.03014865e+00],\n",
       "        [ 6.67327384e+00,  7.77779717e+00],\n",
       "        [ 4.93862696e+00,  2.59069400e+00],\n",
       "        [ 9.06358844e+00,  7.16502524e+00],\n",
       "        [ 6.00761067e-02,  4.20326136e+00],\n",
       "        [ 3.92157590e+00,  2.19501687e+00],\n",
       "        [ 5.62603606e+00,  3.33739947e+00],\n",
       "        [ 1.02821239e-01,  5.76416283e+00],\n",
       "        [ 7.13098070e+00,  8.44977775e+00],\n",
       "        [ 4.35988033e+00,  2.40093621e+00],\n",
       "        [ 1.80878302e-01,  5.98403298e+00],\n",
       "        [ 6.80285692e-01,  5.39199188e+00],\n",
       "        [ 3.74837572e+00,  2.93705011e+00],\n",
       "        [-8.10232993e-02,  6.09476957e+00],\n",
       "        [ 4.21205008e+00,  2.80763431e+00],\n",
       "        [ 5.63260195e-01,  5.01387733e+00],\n",
       "        [ 7.73220158e+00,  7.10944738e+00],\n",
       "        [ 1.15841706e+00,  6.88682094e+00],\n",
       "        [ 3.71608961e+00,  1.87195410e+00],\n",
       "        [ 3.95234011e+00,  3.01546985e+00],\n",
       "        [-4.27074227e-01,  5.74363288e+00],\n",
       "        [ 7.66599948e+00,  7.50451764e+00],\n",
       "        [ 4.94825945e+00,  1.79542323e+00],\n",
       "        [ 5.00490704e+00,  8.19938170e+00],\n",
       "        [-1.14708247e-01,  5.69915138e+00],\n",
       "        [ 1.15973335e-02,  2.95229669e+00],\n",
       "        [ 7.14567962e+00,  7.61524292e+00],\n",
       "        [ 3.05186136e+00,  1.33102938e+00],\n",
       "        [ 5.54011737e+00,  3.05774910e+00],\n",
       "        [ 5.27083358e+00,  2.23212490e+00],\n",
       "        [ 6.75904580e+00,  7.62864046e+00],\n",
       "        [ 2.14597981e-01,  6.59433018e+00],\n",
       "        [ 4.32539319e+00,  3.00517112e+00],\n",
       "        [ 3.88242497e+00,  3.86415555e+00],\n",
       "        [ 5.61541449e+00,  7.19068708e+00],\n",
       "        [ 9.11954388e+00,  8.90528470e+00],\n",
       "        [ 1.29562193e+00,  6.54880362e+00],\n",
       "        [-1.32484529e+00,  5.47490706e+00],\n",
       "        [ 3.00098622e+00,  2.33935662e+00],\n",
       "        [ 3.73591825e+00,  3.21921473e+00],\n",
       "        [ 8.44031964e-01,  6.29015904e+00],\n",
       "        [-8.45276134e-01,  5.12078840e+00],\n",
       "        [ 6.32330066e+00,  3.89620756e+00],\n",
       "        [ 6.88145935e+00,  7.17713949e+00],\n",
       "        [ 8.13720372e-01,  7.51755594e+00],\n",
       "        [-2.24265797e+00,  6.98021877e+00],\n",
       "        [ 7.16066092e+00,  1.00529785e+01],\n",
       "        [ 3.24137824e+00,  1.57018427e+00],\n",
       "        [ 7.07861100e-01,  3.76478367e+00],\n",
       "        [ 8.47375117e+00,  8.46089410e+00],\n",
       "        [ 8.39227043e+00,  7.99679649e+00],\n",
       "        [ 2.23911093e+00,  5.26517776e+00],\n",
       "        [ 3.28671289e+00,  1.91919841e+00],\n",
       "        [ 3.16983655e+00,  3.83291692e+00],\n",
       "        [ 6.47716222e+00,  5.45725843e+00],\n",
       "        [ 5.49807871e+00,  6.56406850e+00],\n",
       "        [ 7.15592550e+00,  8.47421274e+00],\n",
       "        [ 6.62465513e+00,  7.07954807e+00],\n",
       "        [ 7.40221758e+00,  8.47154234e+00],\n",
       "        [ 4.27186538e+00,  2.34264333e+00],\n",
       "        [ 1.50197104e+00,  6.57280983e+00],\n",
       "        [ 6.28440009e+00,  8.99800946e+00],\n",
       "        [ 4.34164857e+00,  2.23848959e+00],\n",
       "        [-9.67889917e-01,  5.99260541e+00],\n",
       "        [ 5.25494273e+00,  2.51472675e+00],\n",
       "        [ 1.40642748e+00,  8.37628912e-01],\n",
       "        [-8.74653893e-01,  5.17931444e+00],\n",
       "        [ 7.46222994e+00,  6.37649068e+00],\n",
       "        [ 4.69651355e+00,  9.48351433e+00],\n",
       "        [-1.81194012e+00,  4.85554018e+00],\n",
       "        [ 8.44178049e-01,  5.29752997e+00],\n",
       "        [ 1.77557569e+00,  1.30191494e+00],\n",
       "        [ 4.44472565e-01,  4.75937447e+00],\n",
       "        [-1.05263789e+00,  6.31238495e+00],\n",
       "        [ 7.13074493e+00,  8.37234568e+00],\n",
       "        [ 4.05946891e+00,  1.38947809e+00],\n",
       "        [ 3.48838759e+00,  1.67246037e+00],\n",
       "        [ 4.00630288e+00,  2.83450676e-01],\n",
       "        [-1.53231911e-01,  6.27871613e+00],\n",
       "        [ 5.33452215e+00,  1.32236336e+00],\n",
       "        [ 6.44502223e+00,  4.32734049e+00],\n",
       "        [ 4.01250941e+00,  3.35595766e+00],\n",
       "        [ 5.33197235e+00,  2.78535495e+00],\n",
       "        [ 2.97655109e+00,  2.34253971e+00],\n",
       "        [ 3.86445577e+00,  2.76911761e+00],\n",
       "        [ 1.05989070e+00,  5.40225357e+00],\n",
       "        [ 7.38242495e+00,  7.51633064e+00],\n",
       "        [ 3.81617575e+00,  1.97086570e+00],\n",
       "        [ 7.79198019e+00,  7.13198149e+00],\n",
       "        [ 1.29924808e+00,  5.30745386e+00],\n",
       "        [ 5.32159145e+00,  8.42421600e+00],\n",
       "        [ 7.33339383e+00,  6.44387956e+00],\n",
       "        [ 5.77477401e+00,  1.48450479e+00],\n",
       "        [ 5.34203105e+00,  7.27350620e+00],\n",
       "        [ 4.15443217e+00,  3.68616373e+00],\n",
       "        [ 3.00385493e+00,  4.15413662e+00],\n",
       "        [ 2.75773883e+00,  1.70667603e+00],\n",
       "        [ 7.29303323e+00,  5.64530530e+00],\n",
       "        [ 4.14057857e-01,  3.68224771e+00],\n",
       "        [ 2.66703333e+00,  2.54361370e+00],\n",
       "        [ 6.91268946e+00,  8.64686475e+00],\n",
       "        [ 3.23604345e+00,  2.88188585e+00],\n",
       "        [ 4.01764343e+00,  1.17962527e+00],\n",
       "        [ 8.75235428e+00,  8.14875851e+00],\n",
       "        [ 6.40782087e+00,  9.58248475e+00],\n",
       "        [ 7.66063061e+00,  4.96549004e+00],\n",
       "        [ 7.83903339e+00,  6.94436813e+00],\n",
       "        [ 6.90261452e+00,  7.23375065e+00],\n",
       "        [ 7.60267870e+00,  7.35028525e+00],\n",
       "        [ 7.29644685e+00,  7.64129206e+00],\n",
       "        [-3.21236619e-01,  3.53393169e+00],\n",
       "        [-3.45530226e-01,  5.31266438e+00],\n",
       "        [ 1.40632128e+00,  5.07910324e+00],\n",
       "        [ 1.59919012e-01,  5.02285031e+00],\n",
       "        [ 5.63377503e+00,  2.72594542e+00],\n",
       "        [ 7.21759737e+00,  6.29860405e+00],\n",
       "        [ 2.89963516e+00,  1.87761419e+00],\n",
       "        [-6.64500937e-02,  6.45454433e+00],\n",
       "        [ 6.67219023e+00,  7.28548642e+00],\n",
       "        [ 4.23401700e+00,  2.35684564e+00],\n",
       "        [ 1.88395246e-01,  4.68466062e+00],\n",
       "        [ 7.70525509e+00,  6.60380649e+00],\n",
       "        [ 8.17576336e-01,  8.10034569e+00],\n",
       "        [-1.00984731e+00,  7.27594406e+00],\n",
       "        [-2.84154704e-01,  5.59085705e+00],\n",
       "        [ 5.89180190e+00,  8.43345343e+00],\n",
       "        [ 9.18206825e+00,  4.99285559e+00],\n",
       "        [ 7.66099114e+00,  7.57824649e+00],\n",
       "        [ 3.24260967e+00,  3.20895652e+00],\n",
       "        [ 4.00052908e+00,  2.13047559e+00],\n",
       "        [ 5.16140200e-01,  7.12663697e+00],\n",
       "        [ 8.43890801e-01,  6.05421317e+00],\n",
       "        [-2.75759816e-01,  5.80850140e+00],\n",
       "        [ 6.16631710e-02,  3.36481638e+00],\n",
       "        [ 6.39815371e-01,  5.41324723e+00],\n",
       "        [ 6.76471517e+00,  7.09117299e+00],\n",
       "        [ 2.53577660e+00,  5.45442181e+00],\n",
       "        [ 8.44275018e-01,  5.26466089e+00],\n",
       "        [-3.20230112e-01,  7.14922500e+00],\n",
       "        [ 4.39691293e+00,  1.37184048e+00],\n",
       "        [ 4.20640265e+00,  2.69727679e+00],\n",
       "        [ 6.45632818e+00,  8.13704907e+00],\n",
       "        [ 2.82630701e+00,  2.84281082e+00],\n",
       "        [ 4.24940006e-01,  4.52262216e+00],\n",
       "        [ 5.72683196e+00,  6.45816980e+00],\n",
       "        [-5.24495248e-01,  4.40242730e+00],\n",
       "        [ 5.84420273e+00,  5.51424550e+00],\n",
       "        [ 3.98962350e+00,  3.22719144e+00],\n",
       "        [ 3.78946636e+00,  2.02210174e+00],\n",
       "        [ 6.82200662e+00,  8.16235158e+00],\n",
       "        [ 8.09195474e+00,  6.88288773e+00],\n",
       "        [ 6.73116077e+00,  8.34050500e+00],\n",
       "        [-1.61651403e+00,  5.56191564e+00],\n",
       "        [ 5.38990933e+00,  1.48571122e+00],\n",
       "        [ 8.84621967e+00,  7.62538586e+00],\n",
       "        [-1.01112913e+00,  6.60171967e+00],\n",
       "        [ 3.96041326e+00,  4.26680818e+00],\n",
       "        [ 4.52816322e+00,  2.83688569e+00],\n",
       "        [ 2.03817313e+00,  5.30340837e+00],\n",
       "        [ 3.24857181e-02,  5.03367511e+00],\n",
       "        [ 4.57275109e+00,  1.85001678e+00],\n",
       "        [ 4.92581953e+00,  3.94151320e+00],\n",
       "        [ 4.75658732e+00,  2.93406963e+00],\n",
       "        [ 3.55582905e+00,  2.13192100e+00],\n",
       "        [ 8.02446861e+00,  6.72653815e+00],\n",
       "        [ 8.40011017e+00,  8.80797593e+00],\n",
       "        [ 4.14229042e+00,  2.02748882e+00],\n",
       "        [-6.92139787e-01,  5.26753411e+00],\n",
       "        [ 1.46825613e-01,  4.97706163e+00],\n",
       "        [ 4.61175074e+00,  4.14356914e+00],\n",
       "        [-8.76341598e-03,  3.35104556e+00],\n",
       "        [ 2.38369678e+00,  5.58210158e+00],\n",
       "        [ 8.48220222e+00,  7.88769304e+00],\n",
       "        [ 7.36033023e+00,  7.65231906e+00],\n",
       "        [ 7.25716543e+00,  7.12331337e+00],\n",
       "        [ 6.65383405e+00,  5.57756108e+00],\n",
       "        [ 6.28128756e+00,  7.86128029e+00],\n",
       "        [ 8.63589948e-01,  4.79803862e+00],\n",
       "        [ 4.45110392e+00,  2.18327529e+00],\n",
       "        [ 7.53039916e+00,  8.26108125e+00],\n",
       "        [ 1.03995154e-01,  5.89362720e+00],\n",
       "        [ 7.18350994e+00,  6.84221505e+00]]),\n",
       " array([2, 2, 1, 0, 1, 1, 1, 1, 1, 1, 2, 0, 1, 1, 1, 0, 0, 1, 0, 1, 2, 0,\n",
       "        1, 0, 1, 0, 1, 2, 1, 2, 1, 0, 2, 0, 0, 0, 0, 2, 1, 2, 1, 1, 1, 2,\n",
       "        1, 1, 2, 2, 1, 2, 1, 2, 2, 1, 0, 2, 0, 0, 0, 1, 2, 1, 0, 2, 2, 2,\n",
       "        1, 2, 0, 0, 1, 2, 0, 1, 2, 2, 0, 0, 2, 1, 1, 0, 0, 2, 2, 0, 2, 1,\n",
       "        0, 2, 1, 2, 0, 2, 2, 0, 0, 1, 2, 0, 2, 1, 1, 1, 2, 1, 1, 0, 0, 2,\n",
       "        2, 1, 2, 0, 1, 0, 2, 2, 0, 2, 0, 2, 1, 0, 0, 1, 2, 0, 1, 1, 0, 1,\n",
       "        0, 1, 2, 1, 0, 0, 1, 2, 0, 2, 1, 1, 2, 0, 0, 0, 2, 1, 0, 0, 2, 2,\n",
       "        1, 1, 0, 0, 1, 1, 0, 2, 1, 1, 2, 0, 1, 2, 2, 1, 0, 0, 2, 2, 2, 2,\n",
       "        2, 0, 1, 2, 0, 1, 0, 0, 1, 2, 2, 1, 1, 0, 1, 1, 2, 0, 0, 0, 1, 0,\n",
       "        0, 0, 0, 0, 0, 1, 2, 0, 2, 1, 2, 2, 0, 2, 0, 0, 0, 2, 0, 0, 2, 0,\n",
       "        0, 2, 2, 2, 2, 2, 2, 2, 1, 1, 1, 1, 0, 2, 0, 1, 2, 0, 1, 2, 1, 1,\n",
       "        1, 2, 2, 2, 0, 0, 1, 1, 1, 1, 1, 2, 1, 1, 1, 0, 0, 2, 0, 1, 2, 1,\n",
       "        2, 0, 0, 2, 2, 2, 1, 0, 2, 1, 0, 0, 0, 1, 0, 0, 0, 0, 2, 2, 0, 1,\n",
       "        1, 0, 1, 1, 2, 2, 2, 2, 2, 1, 0, 2, 1, 2], dtype=int64))"
      ]
     },
     "execution_count": 67,
     "metadata": {},
     "output_type": "execute_result"
    }
   ],
   "source": [
    "X = df[['x1','x2']].values\n",
    "Y = df['y'].values\n",
    "X, Y"
   ]
  },
  {
   "cell_type": "code",
   "execution_count": 69,
   "metadata": {},
   "outputs": [
    {
     "data": {
      "image/png": "[encoded data removed]",
      "text/plain": [
       "<Figure size 432x288 with 1 Axes>"
      ]
     },
     "metadata": {
      "needs_background": "light"
     },
     "output_type": "display_data"
    }
   ],
   "source": [
    "plt.scatter(X[:, 0], X[:, 1], s=10, c=Y, marker='o', alpha=0.8)\n",
    "plt.show()"
   ]
  },
  {
   "cell_type": "code",
   "execution_count": 71,
   "metadata": {
    "id": "4XJifI-CPTE5"
   },
   "outputs": [
    {
     "name": "stdout",
     "output_type": "stream",
     "text": [
      "cluster_num 1, metric 1105.897378110108\n",
      "cluster_num 2, metric 663.5712032768099\n",
      "cluster_num 3, metric 374.6589714184063\n",
      "cluster_num 4, metric 348.17052724059585\n",
      "cluster_num 5, metric 322.4572749177012\n",
      "cluster_num 6, metric 302.0978866178218\n",
      "cluster_num 7, metric 282.63616559680344\n",
      "cluster_num 8, metric 265.5996867886235\n",
      "cluster_num 9, metric 247.7083805018971\n"
     ]
    }
   ],
   "source": [
    "# -- ВАШ КОД ТУТ --\n",
    "metrics = []\n",
    "MAX_CLUSTERS = 10\n",
    "for cluster_num in range(1, MAX_CLUSTERS):\n",
    "    kmeans_model = KMeans(n_clusters = cluster_num, random_state = 17).fit(X)\n",
    "    centroids, labels = kmeans_model.cluster_centers_, kmeans_model.labels_\n",
    "    metric = 0\n",
    "    for centroid_label in range(cluster_num):\n",
    "        metric += euclidean_distances(\n",
    "            X[labels==centroid_label],\n",
    "            centroids[centroid_label,:].reshape(1,-1)\n",
    "        ).sum(axis=0)[0]\n",
    "    print(\"cluster_num %s, metric %s\" % (cluster_num, metric))\n",
    "    metrics.append(metric)"
   ]
  },
  {
   "cell_type": "code",
   "execution_count": 95,
   "metadata": {},
   "outputs": [
    {
     "name": "stdout",
     "output_type": "stream",
     "text": [
      "best cluster num: 3\n"
     ]
    },
    {
     "data": {
      "image/png": "[encoded data removed]",
      "text/plain": [
       "<Figure size 432x288 with 1 Axes>"
      ]
     },
     "metadata": {
      "needs_background": "light"
     },
     "output_type": "display_data"
    }
   ],
   "source": [
    "D = []\n",
    "for i in range(0, len(metrics)-1):\n",
    "    d = abs(metrics[i+1]-metrics[i])/abs(metrics[i]-metrics[i-1])\n",
    "    D.append(d)\n",
    "print(\"best cluster num: %s\" % (np.argmin(D)+1))\n",
    "\n",
    "plt.plot([i+1 for i in range(len(metrics))], metrics, marker = 'o')\n",
    "plt.axvline(x = np.argmin(D)+1, c = 'g')\n",
    "plt.show()"
   ]
  },
  {
   "cell_type": "code",
   "execution_count": null,
   "metadata": {},
   "outputs": [],
   "source": []
  },
  {
   "cell_type": "markdown",
   "metadata": {},
   "source": [
    "## 2"
   ]
  },
  {
   "cell_type": "code",
   "execution_count": 75,
   "metadata": {},
   "outputs": [
    {
     "data": {
      "text/plain": [
       "3"
      ]
     },
     "execution_count": 75,
     "metadata": {},
     "output_type": "execute_result"
    }
   ],
   "source": [
    "n = np.argmin(D)+1\n",
    "n"
   ]
  },
  {
   "cell_type": "code",
   "execution_count": 76,
   "metadata": {},
   "outputs": [],
   "source": [
    "kmeans_model = KMeans(n_clusters = n, random_state = 17).fit(X)"
   ]
  },
  {
   "cell_type": "code",
   "execution_count": null,
   "metadata": {},
   "outputs": [],
   "source": []
  },
  {
   "cell_type": "markdown",
   "metadata": {},
   "source": [
    "## 3"
   ]
  },
  {
   "cell_type": "code",
   "execution_count": 90,
   "metadata": {},
   "outputs": [
    {
     "name": "stdout",
     "output_type": "stream",
     "text": [
      "точка (5, 8) принадлежит кластеру  0\n",
      "точка (0, 5) принадлежит кластеру  1\n"
     ]
    }
   ],
   "source": [
    "print('точка (5, 8) принадлежит кластеру ', kmeans_model.predict([[5, 8]])[0])\n",
    "print('точка (0, 5) принадлежит кластеру ', kmeans_model.predict([[0, 5]])[0])"
   ]
  },
  {
   "cell_type": "code",
   "execution_count": 92,
   "metadata": {},
   "outputs": [
    {
     "data": {
      "text/plain": [
       "False"
      ]
     },
     "execution_count": 92,
     "metadata": {},
     "output_type": "execute_result"
    }
   ],
   "source": [
    "kmeans_model.predict([[5, 8]])[0] == kmeans_model.predict([[0, 5]])[0]\n",
    "# принадлежит к разным классам"
   ]
  },
  {
   "cell_type": "code",
   "execution_count": null,
   "metadata": {},
   "outputs": [],
   "source": []
  },
  {
   "cell_type": "markdown",
   "metadata": {},
   "source": [
    "## 4"
   ]
  },
  {
   "cell_type": "code",
   "execution_count": 93,
   "metadata": {},
   "outputs": [
    {
     "name": "stdout",
     "output_type": "stream",
     "text": [
      "Качество кластеризации по метрике AMI 0.970\n"
     ]
    }
   ],
   "source": [
    "score = adjusted_mutual_info_score(Y, kmeans_model.labels_, average_method='arithmetic')\n",
    "\n",
    "print(\"Качество кластеризации по метрике AMI %.3f\" % score)"
   ]
  },
  {
   "cell_type": "code",
   "execution_count": null,
   "metadata": {},
   "outputs": [],
   "source": []
  },
  {
   "cell_type": "markdown",
   "metadata": {
    "id": "28VnuIijPTE8"
   },
   "source": [
    "### Заключение\n",
    "\n",
    "Мы познакомились с двумя метриками\n",
    "\n",
    "* Silhouette. Её используем, когда есть только сами объекты, а метки кластеров отсутствуют в обучающей выборке\n",
    "* AMI. Её используем, когда известны \"истинные\" метки кластеров\n",
    "\n",
    "Метрик намного больше - о них можно почитать [ в документации sklearn](https://scikit-learn.org/stable/modules/classes.html#clustering-metrics)"
   ]
  },
  {
   "cell_type": "code",
   "execution_count": null,
   "metadata": {
    "id": "tm_ipxKhPTE9"
   },
   "outputs": [],
   "source": []
  }
 ],
 "metadata": {
  "colab": {
   "collapsed_sections": [],
   "name": "jun_ml_7_hw-6.ipynb",
   "provenance": []
  },
  "kernelspec": {
   "display_name": "Python 3",
   "language": "python",
   "name": "python3"
  },
  "language_info": {
   "codemirror_mode": {
    "name": "ipython",
    "version": 3
   },
   "file_extension": ".py",
   "mimetype": "text/x-python",
   "name": "python",
   "nbconvert_exporter": "python",
   "pygments_lexer": "ipython3",
   "version": "3.7.6"
  }
 },
 "nbformat": 4,
 "nbformat_minor": 1
}
