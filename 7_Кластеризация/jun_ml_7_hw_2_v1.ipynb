{
 "cells": [
  {
   "cell_type": "markdown",
   "metadata": {
    "id": "ToOBomb3PAB4"
   },
   "source": [
    "## Урок 4. Домашнее задание \n",
    "\n",
    "### 4.1 Домашнее задание начального уровня\n",
    "\n",
    "Потренируйтесь в программировании на python. Надо будет найти расстояние от каждой точки из массива $X$ до центра кластера, а потом просуммировать эти расстояния. Это будет реализацией библиотечной функции `sklearn.metrics.pairwise.euclidean_distances` из первого урока.  В итоге у Вас должно получиться число чуть более $16$ - это и будет расстояние.\n",
    "$$\n",
    "\\sum_{i=1}^{k} \\mid x_i - c \\mid\n",
    "$$\n",
    "\n",
    "где для одного обучающего примера x, состоящего из двух координат:\n",
    "$$\n",
    "\\mid x - c \\mid = (x_1-c_1)^2 + (x_2-c_2)^2\n",
    "$$\n",
    "\n",
    "**Примечание** Как вы уже знаете из урока про линейную регрессию, в этой формуле должен быть квадратный корень, но для скорости работы мы опускаем его.\n",
    "\n",
    "**Подсказка** Средствами библиотеки numpy реализуйте формулу нахождения суммы внутрикластерных расстояний"
   ]
  },
  {
   "cell_type": "code",
   "execution_count": 139,
   "metadata": {},
   "outputs": [],
   "source": [
    "import numpy as np\n",
    "import matplotlib.pyplot as plt\n",
    "\n",
    "from sklearn.cluster import KMeans\n",
    "from scipy.spatial.distance import euclidean # эвклидово расстояние\n",
    "from sklearn.metrics.pairwise import euclidean_distances # эвклидово расстояние\n",
    "\n",
    "import pickle"
   ]
  },
  {
   "cell_type": "code",
   "execution_count": 140,
   "metadata": {
    "id": "nY5dFMW8PACP"
   },
   "outputs": [],
   "source": [
    "clust = np.array([\n",
    " [-0.5972191612445694, -0.5919098916910581],\n",
    " [-1.5838020751869848, 0.4743393635868491],\n",
    " [-1.892642118066139, -1.2770390481464395],\n",
    " [-1.021761443519372, -0.38446059106320013],\n",
    " [-0.628271339507516, -2.308149346281125],\n",
    " [-0.7180915776856387, 1.1805550909358404],\n",
    " [-1.543143767548152, -1.4163791359687334],\n",
    " [0.022103701018375554, -1.1279478858865397],\n",
    " [-0.7776518874305778, -0.4157532453316538],\n",
    " [-1.2073577296008344, -1.1308523658604184]\n",
    "])\n",
    "\n",
    "centroid = np.array([-0.9774245525274352, -0.032635425821084516])\n",
    "\n",
    "# -- ВАШ КОД ТУТ --\n",
    "\n"
   ]
  },
  {
   "cell_type": "code",
   "execution_count": 141,
   "metadata": {},
   "outputs": [
    {
     "data": {
      "text/plain": [
       "16.31211696438564"
      ]
     },
     "execution_count": 141,
     "metadata": {},
     "output_type": "execute_result"
    }
   ],
   "source": [
    "((clust - centroid) **2).sum(axis = 1).sum(axis = 0)"
   ]
  },
  {
   "cell_type": "code",
   "execution_count": 142,
   "metadata": {},
   "outputs": [
    {
     "data": {
      "text/plain": [
       "16.312116964385638"
      ]
     },
     "execution_count": 142,
     "metadata": {},
     "output_type": "execute_result"
    }
   ],
   "source": [
    "((clust - centroid) **2).sum()"
   ]
  },
  {
   "cell_type": "code",
   "execution_count": 143,
   "metadata": {},
   "outputs": [
    {
     "data": {
      "text/plain": [
       "16.31211696438564"
      ]
     },
     "execution_count": 143,
     "metadata": {},
     "output_type": "execute_result"
    }
   ],
   "source": [
    "# через цикл\n",
    "sum_ = 0\n",
    "for i in range (clust.shape[0]):\n",
    "    sum_ += (clust[i][0] - centroid[0]) **2 + (clust[i][1] - centroid[1]) **2\n",
    "sum_"
   ]
  },
  {
   "cell_type": "code",
   "execution_count": 144,
   "metadata": {},
   "outputs": [
    {
     "data": {
      "text/plain": [
       "16.31211696438564"
      ]
     },
     "execution_count": 144,
     "metadata": {},
     "output_type": "execute_result"
    }
   ],
   "source": [
    "# через scipy.spatial.distance.euclidean\n",
    "sum_ = 0\n",
    "for i in range (clust.shape[0]):\n",
    "    sum_ += euclidean(clust[i], centroid) **2\n",
    "sum_"
   ]
  },
  {
   "cell_type": "code",
   "execution_count": 159,
   "metadata": {},
   "outputs": [
    {
     "data": {
      "text/plain": [
       "16.31211696438564"
      ]
     },
     "execution_count": 159,
     "metadata": {},
     "output_type": "execute_result"
    }
   ],
   "source": [
    "# через sklearn.metrics.pairwise.euclidean_distances\n",
    "((euclidean_distances(clust, centroid.reshape(1,-1))) **2).sum()"
   ]
  },
  {
   "cell_type": "code",
   "execution_count": null,
   "metadata": {},
   "outputs": [],
   "source": []
  },
  {
   "cell_type": "markdown",
   "metadata": {
    "id": "O2lFNZ_EPACV"
   },
   "source": [
    "### 4.2 Домашнее задание начального уровня  \n",
    "\n",
    "Обучите алгоритм k-средних для количества кластеров $n=3$ на том же датасете, который содержится в файле `data/clustering.pkl`. Визуализируйте результат:"
   ]
  },
  {
   "cell_type": "code",
   "execution_count": 145,
   "metadata": {
    "id": "GkTkaXo1PACW"
   },
   "outputs": [],
   "source": [
    "# -- ВАШ КОД ТУТ --\n",
    "# данные получены с помощью функции make_classification \n",
    "with open('clustering.pkl', 'rb') as f:\n",
    "    data_clustering = pickle.load(f)\n",
    "\n",
    "X = np.array(data_clustering['X'])\n",
    "Y = np.array(data_clustering['Y'])"
   ]
  },
  {
   "cell_type": "code",
   "execution_count": 146,
   "metadata": {},
   "outputs": [
    {
     "data": {
      "text/plain": [
       "KMeans(algorithm='auto', copy_x=True, init='k-means++', max_iter=300,\n",
       "       n_clusters=3, n_init=10, n_jobs=None, precompute_distances='auto',\n",
       "       random_state=42, tol=0.0001, verbose=0)"
      ]
     },
     "execution_count": 146,
     "metadata": {},
     "output_type": "execute_result"
    }
   ],
   "source": [
    "kmeans_model = KMeans(n_clusters = 3, random_state = 42)\n",
    "kmeans_model.fit(X)"
   ]
  },
  {
   "cell_type": "code",
   "execution_count": 147,
   "metadata": {},
   "outputs": [
    {
     "data": {
      "image/png": "[encoded data removed]",
      "text/plain": [
       "<Figure size 432x288 with 1 Axes>"
      ]
     },
     "metadata": {
      "needs_background": "light"
     },
     "output_type": "display_data"
    }
   ],
   "source": [
    "plt.scatter(X[:, 0], X[:, 1], s=40, c=kmeans_model.labels_, marker='o', alpha=0.8, label='data')\n",
    "plt.show()"
   ]
  },
  {
   "cell_type": "code",
   "execution_count": null,
   "metadata": {},
   "outputs": [],
   "source": []
  },
  {
   "cell_type": "markdown",
   "metadata": {
    "id": "kxSaSMsuPACd"
   },
   "source": [
    "### 4.3 Домашнее задание высокого уровня\n",
    "\n",
    "Мы узнали про эвристику, улучшающую алгоритм: запустить несколько раз алгоритм, запомнить, куда попали центроиды при каждом запуске, а потом усреднить координаты за все несколько запуска.\n",
    "\n",
    "Попробуйте применить эту эвристику на практике: \n",
    "\n",
    "* используйте 10 запусков алгоритма $k$-средних для $k=2$ с параметрами\n",
    "<pre>\n",
    "kmeans_model = KMeans(n_clusters=2, n_init=1, random_state=None, algorithm='full', max_iter=2)\n",
    "</pre>\n",
    "* в каждом запуске сохраняйте координаты центроидов общий массив $c$. См. `cluster_centers_ : array, [n_clusters, n_features]`\n",
    "* визуализируйте координаты точек из $c$ на фоне исходного множества точек\n",
    "\n",
    "Результат будет примерно такой:\n",
    "![several_init_knn](https://248006.selcdn.ru/public/DS.%20Block%202.%20M7/several_init_knn.png)"
   ]
  },
  {
   "cell_type": "code",
   "execution_count": 136,
   "metadata": {
    "id": "Y7TYD_kRPACg"
   },
   "outputs": [],
   "source": [
    "# -- ВАШ КОД ТУТ --\n",
    "x1, y1, x2, y2 = np.array([]), np.array([]), np.array([]), np.array([])\n",
    "for i in range (10):\n",
    "    kmeans = KMeans(n_clusters=2, n_init=1, random_state=None, algorithm='full', max_iter=2)\n",
    "    kmeans_model = kmeans.fit(X)\n",
    "    x1 = np.append(x1, kmeans.cluster_centers_[0][0])\n",
    "    y1 = np.append(y1, kmeans.cluster_centers_[0][1])\n",
    "    x2 = np.append(x2, kmeans.cluster_centers_[1][0])\n",
    "    y2 = np.append(y2, kmeans.cluster_centers_[1][1])\n",
    "    "
   ]
  },
  {
   "cell_type": "code",
   "execution_count": 137,
   "metadata": {},
   "outputs": [
    {
     "data": {
      "text/plain": [
       "(array([ 0.11085681, -0.97742455,  0.80491291, -0.16346444,  1.00715164,\n",
       "         0.71585996, -0.94233808,  0.97792098, -0.97742455,  0.95917947]),\n",
       " array([-0.48272021, -0.03263543,  0.32249851, -0.42546836,  0.04040685,\n",
       "         0.28931438,  0.29154215,  0.10168404, -0.03263543,  0.07757361]))"
      ]
     },
     "execution_count": 137,
     "metadata": {},
     "output_type": "execute_result"
    }
   ],
   "source": [
    "x1, y1"
   ]
  },
  {
   "cell_type": "code",
   "execution_count": 138,
   "metadata": {},
   "outputs": [
    {
     "data": {
      "image/png": "[encoded data removed]",
      "text/plain": [
       "<Figure size 432x288 with 1 Axes>"
      ]
     },
     "metadata": {
      "needs_background": "light"
     },
     "output_type": "display_data"
    }
   ],
   "source": [
    "plt.scatter(X[:, 0], X[:, 1], s=10, c=kmeans_model.labels_, marker='o', alpha=0.8, label='data')\n",
    "plt.scatter(x1, y1, c = 'g')\n",
    "plt.scatter(x2, y2, c = 'r')\n",
    "plt.show()"
   ]
  },
  {
   "cell_type": "code",
   "execution_count": null,
   "metadata": {},
   "outputs": [],
   "source": []
  },
  {
   "cell_type": "markdown",
   "metadata": {
    "id": "rldfAxyWPACk"
   },
   "source": [
    "Мы выяснили, что один из недостатков алгоритма k-средних состоит в том, что количество кластеров надо задать до тренировки модели, но как же определить, сколько будет кластеров в данных? Для этой задачи существует эффективный алгоритм, о котором мы поговорим в следующем уроке."
   ]
  }
 ],
 "metadata": {
  "colab": {
   "name": "jun_ml_7_hw-2.ipynb",
   "provenance": []
  },
  "kernelspec": {
   "display_name": "Python 3",
   "language": "python",
   "name": "python3"
  },
  "language_info": {
   "codemirror_mode": {
    "name": "ipython",
    "version": 3
   },
   "file_extension": ".py",
   "mimetype": "text/x-python",
   "name": "python",
   "nbconvert_exporter": "python",
   "pygments_lexer": "ipython3",
   "version": "3.7.6"
  }
 },
 "nbformat": 4,
 "nbformat_minor": 1
}
