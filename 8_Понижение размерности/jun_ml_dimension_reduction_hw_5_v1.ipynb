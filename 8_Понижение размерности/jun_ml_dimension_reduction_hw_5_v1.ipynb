{
 "cells": [
  {
   "cell_type": "markdown",
   "metadata": {
    "id": "q92frZ1hzNT3"
   },
   "source": [
    "## Урок 8. Домашнее задание \n",
    "### 8.1 Задание высокого уровня\n",
    "\n",
    "Давайте проверим, как t-sne может улучшить Ваши модели. Для начала загрузим данные и построим Baseline модель без преобразования входных данных"
   ]
  },
  {
   "cell_type": "code",
   "execution_count": 1,
   "metadata": {
    "id": "_gcQ-CQ3zNUQ"
   },
   "outputs": [],
   "source": [
    "import pandas as pd\n",
    "import matplotlib.pyplot as plt\n",
    "from sklearn.tree import DecisionTreeClassifier\n",
    "from sklearn.model_selection import train_test_split\n",
    "from sklearn.metrics import accuracy_score, roc_auc_score\n",
    "\n",
    "def eval_model(input_x, input_y):\n",
    "    \"\"\"Обучаем и валидируем модель\"\"\"\n",
    "    X_train, X_test, y_train, y_test = train_test_split(\n",
    "        input_x, input_y, test_size=.3, stratify=y, random_state=42\n",
    "    )\n",
    "    # Для примера возьмём неглубокое дерево решений\n",
    "    clf = DecisionTreeClassifier(max_depth=2, random_state=42)\n",
    "    clf.fit(X_train, y_train)\n",
    "    preds = clf.predict_proba(X_test)\n",
    "    acc_score = accuracy_score(y_test, preds.argmax(axis=1))\n",
    "    print('Accuracy: %.5f' % acc_score)\n",
    "    \n",
    "df_source = pd.read_csv('client_segmentation.csv')\n",
    "X = df_source[['call_diff','sms_diff','traffic_diff']].values\n",
    "y = df_source.customes_class.values"
   ]
  },
  {
   "cell_type": "markdown",
   "metadata": {
    "id": "EGcbYYxLzNUq"
   },
   "source": [
    "Вычисляем скор baseline модели (по тестовым данным)"
   ]
  },
  {
   "cell_type": "code",
   "execution_count": 2,
   "metadata": {
    "id": "iM-fSpU1zNUw",
    "outputId": "25f8725f-4504-4ac1-d287-4abae60acc3b"
   },
   "outputs": [
    {
     "name": "stdout",
     "output_type": "stream",
     "text": [
      "Accuracy: 0.80000\n"
     ]
    }
   ],
   "source": [
    "eval_model(X, y)"
   ]
  },
  {
   "cell_type": "markdown",
   "metadata": {
    "id": "bWmS26jdzNVJ"
   },
   "source": [
    "Алгоритм выполнения домашней работы:\n",
    "\n",
    "* выполните PCA преобразование матрицы $X$, передайте новую матрицу в `eval_model`. Какое значение Accuracy получили?\n",
    "* выполните t-sne преобразование матрицы $X$, передайте новую матрицу в `eval_model`. Какое значение Accuracy получили?\n",
    "\n",
    "Какие выводы можно сделать?"
   ]
  },
  {
   "cell_type": "code",
   "execution_count": 3,
   "metadata": {},
   "outputs": [
    {
     "name": "stdout",
     "output_type": "stream",
     "text": [
      "Accuracy: 0.83333\n"
     ]
    }
   ],
   "source": [
    "# pca\n",
    "from sklearn.decomposition import PCA\n",
    "\n",
    "pca = PCA(n_components=2).fit(X)\n",
    "X_pca = pca.transform(X) \n",
    "eval_model(X_pca, y)"
   ]
  },
  {
   "cell_type": "code",
   "execution_count": 4,
   "metadata": {},
   "outputs": [
    {
     "data": {
      "text/plain": [
       "array([0., 2., 1.])"
      ]
     },
     "execution_count": 4,
     "metadata": {},
     "output_type": "execute_result"
    }
   ],
   "source": [
    "Labels = df_source.customes_class.unique()\n",
    "Labels"
   ]
  },
  {
   "cell_type": "code",
   "execution_count": 5,
   "metadata": {
    "scrolled": true
   },
   "outputs": [
    {
     "data": {
      "image/png": "[encoded data removed]",
      "text/plain": [
       "<Figure size 432x288 with 1 Axes>"
      ]
     },
     "metadata": {
      "needs_background": "light"
     },
     "output_type": "display_data"
    }
   ],
   "source": [
    "for n in Labels:\n",
    "    plt.scatter(X_pca[(df_source.customes_class.values == n), 0], X_pca[(df_source.customes_class.values == n), 1],\n",
    "                s=40, marker='o', alpha=0.8, label = str(n)[0])\n",
    "plt.legend()\n",
    "plt.show()"
   ]
  },
  {
   "cell_type": "code",
   "execution_count": 22,
   "metadata": {},
   "outputs": [
    {
     "name": "stdout",
     "output_type": "stream",
     "text": [
      "Accuracy: 0.93333\n"
     ]
    }
   ],
   "source": [
    "# tsne\n",
    "from sklearn.manifold import TSNE\n",
    "tsne_transformer = TSNE(n_components=2)\n",
    "X_tsne = tsne_transformer.fit_transform(X)\n",
    "eval_model(X_tsne, y)"
   ]
  },
  {
   "cell_type": "code",
   "execution_count": 16,
   "metadata": {
    "scrolled": true
   },
   "outputs": [
    {
     "data": {
      "image/png": "[encoded data removed]",
      "text/plain": [
       "<Figure size 432x288 with 1 Axes>"
      ]
     },
     "metadata": {
      "needs_background": "light"
     },
     "output_type": "display_data"
    }
   ],
   "source": [
    "for n in Labels:\n",
    "    plt.scatter(X_tsne[(df_source.customes_class.values == n), 0], X_tsne[(df_source.customes_class.values == n), 1],\n",
    "                s=40, marker='o', alpha=0.8, label = str(n)[0])\n",
    "plt.legend()\n",
    "plt.show()"
   ]
  },
  {
   "cell_type": "code",
   "execution_count": 14,
   "metadata": {},
   "outputs": [],
   "source": [
    "# Вывод:\n",
    "# точность с помощью метода рса = 0,83\n",
    "# точность с помощью метода рса = 0,87 .. 0.97 (значение варьируется)\n",
    "# с помощью модели tsne можно добиться большей точности"
   ]
  },
  {
   "cell_type": "code",
   "execution_count": null,
   "metadata": {},
   "outputs": [],
   "source": []
  },
  {
   "cell_type": "markdown",
   "metadata": {
    "id": "i-qWNTVlzNVa"
   },
   "source": [
    "В этом уроке мы познакомились с новым алгоритмом t-SNE. Какие у него есть недостатки?\n",
    "\n",
    "* требует бережной настройки параметров на валидационной выборке (см. документацию - там очень много параметров)\n",
    "* плохо работает, когда данных очень много.\n",
    "\n",
    "На больших объёмах данных (более 10к элементов) следует применять более простые алгоритмы - PCA или SVD."
   ]
  }
 ],
 "metadata": {
  "colab": {
   "collapsed_sections": [],
   "name": "jun_ml_dimension_reduction_hw-5.ipynb",
   "provenance": []
  },
  "kernelspec": {
   "display_name": "Python 3",
   "language": "python",
   "name": "python3"
  },
  "language_info": {
   "codemirror_mode": {
    "name": "ipython",
    "version": 3
   },
   "file_extension": ".py",
   "mimetype": "text/x-python",
   "name": "python",
   "nbconvert_exporter": "python",
   "pygments_lexer": "ipython3",
   "version": "3.7.6"
  }
 },
 "nbformat": 4,
 "nbformat_minor": 1
}
