{
 "cells": [
  {
   "cell_type": "markdown",
   "metadata": {
    "id": "90H1_YdZMMbo"
   },
   "source": [
    "### Урок 8. Домашняя работа\n",
    "\n",
    "**Задание среднего уровня** Примените градиентный спуск к задаче прогнозирования цен на недвижимость в Бостоне. Какого качества на валидации удалось достичь по r2-score? Сколько итераций  понадобилось?"
   ]
  },
  {
   "cell_type": "code",
   "execution_count": 1,
   "metadata": {},
   "outputs": [],
   "source": [
    "import numpy as np\n",
    "import pandas as pd\n",
    "from matplotlib import pyplot as plt\n",
    "from scipy.spatial import distance\n",
    "\n",
    "from sklearn.datasets import load_boston\n",
    "from sklearn.model_selection import train_test_split\n",
    "from sklearn.linear_model import SGDRegressor,LinearRegression\n",
    "from sklearn.metrics import mean_squared_error, r2_score"
   ]
  },
  {
   "cell_type": "code",
   "execution_count": 2,
   "metadata": {
    "id": "0q8EbVXRMMbp"
   },
   "outputs": [],
   "source": [
    "# полином первого порядка\n",
    "boston_dataset = load_boston()\n",
    "X = boston_dataset.data\n",
    "y = boston_dataset.target\n",
    "X_train, X_valid, y_train, y_valid = train_test_split(X, y, test_size=0.2, random_state=10)"
   ]
  },
  {
   "cell_type": "code",
   "execution_count": 3,
   "metadata": {},
   "outputs": [],
   "source": [
    "sgd_regressor = SGDRegressor(learning_rate='constant', eta0=0.000005, fit_intercept=True, random_state=42)\n",
    "w_current, epsilon = np.random.random(X_train.shape[1]), 0.0001\n",
    "weight_evolution, mse_evolution, r2_evolution = [], [], [] # изменения весов и ошибка на валидации\n",
    "for step in list(range(5000)):\n",
    "    sgd_regressor = sgd_regressor.partial_fit(X_train, y_train)\n",
    "    weight_evolution.append(distance.euclidean(w_current, sgd_regressor.coef_))\n",
    "    \n",
    "    mse_evolution.append(mean_squared_error(y_valid, sgd_regressor.predict(X_valid)))\n",
    "    r2_evolution.append(r2_score(y_valid, sgd_regressor.predict(X_valid)))\n",
    "    w_current = sgd_regressor.coef_.copy()"
   ]
  },
  {
   "cell_type": "code",
   "execution_count": 4,
   "metadata": {},
   "outputs": [
    {
     "data": {
      "image/png": "[encoded data removed]",
      "text/plain": [
       "<Figure size 720x360 with 1 Axes>"
      ]
     },
     "metadata": {
      "needs_background": "light"
     },
     "output_type": "display_data"
    }
   ],
   "source": [
    "plt.figure(figsize=(10, 5)) \n",
    "plt.plot(range(step+1), r2_evolution, 'g', alpha = 0.5)\n",
    "plt.xlabel('шаг', fontsize=12)\n",
    "plt.ylabel('r2_score', fontsize=12)\n",
    "plt.title('Зависимость r2_score от шага', fontsize=12)\n",
    "plt.grid()\n",
    "plt.show()"
   ]
  },
  {
   "cell_type": "code",
   "execution_count": 5,
   "metadata": {},
   "outputs": [
    {
     "name": "stdout",
     "output_type": "stream",
     "text": [
      "r2_score = 0.383, mse = 64.5\n"
     ]
    }
   ],
   "source": [
    "print ('r2_score = %.3g, mse = %.3g' % (r2_evolution[-1], mse_evolution[-1]))\n",
    "# понадобилось 4000 итераций"
   ]
  },
  {
   "cell_type": "code",
   "execution_count": 6,
   "metadata": {},
   "outputs": [],
   "source": [
    "##"
   ]
  },
  {
   "cell_type": "code",
   "execution_count": 7,
   "metadata": {},
   "outputs": [
    {
     "data": {
      "text/plain": [
       "-5.916574682158619"
      ]
     },
     "execution_count": 7,
     "metadata": {},
     "output_type": "execute_result"
    }
   ],
   "source": [
    "# полином первого порядка, SGDRegressor - значение r2_score не совпадает со значением, полученным с помощью sgd_regressor.partial_fit\n",
    "X = boston_dataset.data\n",
    "y = boston_dataset.target\n",
    "X_train, X_valid, y_train, y_valid = train_test_split(X, y, test_size=0.2, random_state=10)\n",
    "sgd_regressor = SGDRegressor(learning_rate='constant', eta0=0.000005, fit_intercept=True, random_state=42, n_iter_no_change = 4000)\n",
    "reg = SGDRegressor().fit(X_train, y_train)\n",
    "y_pred = reg.predict(X_valid)\n",
    "r2_score(y_pred, y_valid)"
   ]
  },
  {
   "cell_type": "code",
   "execution_count": 8,
   "metadata": {},
   "outputs": [
    {
     "data": {
      "text/plain": [
       "-3.7299987867205076"
      ]
     },
     "execution_count": 8,
     "metadata": {},
     "output_type": "execute_result"
    }
   ],
   "source": [
    "# полином второго порядка, SGDRegressor\n",
    "X = boston_dataset.data\n",
    "y = boston_dataset.target\n",
    "X = np.concatenate((X, X **2), axis = 1)\n",
    "X.shape\n",
    "X_train, X_valid, y_train, y_valid = train_test_split(X, y, test_size=0.2, random_state=10)\n",
    "reg = SGDRegressor().fit(X_train, y_train)\n",
    "y_pred = reg.predict(X_valid)\n",
    "r2_score(y_pred, y_valid)"
   ]
  },
  {
   "cell_type": "code",
   "execution_count": 9,
   "metadata": {},
   "outputs": [
    {
     "data": {
      "text/plain": [
       "-1.1863445010585365"
      ]
     },
     "execution_count": 9,
     "metadata": {},
     "output_type": "execute_result"
    }
   ],
   "source": [
    "# полином третьего порядка, SGDRegressor\n",
    "X = boston_dataset.data\n",
    "y = boston_dataset.target\n",
    "X = np.concatenate((X, X **2, X **3), axis = 1)\n",
    "X.shape\n",
    "X_train, X_valid, y_train, y_valid = train_test_split(X, y, test_size=0.2, random_state=10)\n",
    "reg = SGDRegressor().fit(X_train, y_train)\n",
    "y_pred = reg.predict(X_valid)\n",
    "r2_score(y_pred, y_valid)"
   ]
  },
  {
   "cell_type": "code",
   "execution_count": null,
   "metadata": {},
   "outputs": [],
   "source": []
  },
  {
   "cell_type": "code",
   "execution_count": 10,
   "metadata": {},
   "outputs": [
    {
     "data": {
      "text/plain": [
       "0.49008370107158683"
      ]
     },
     "execution_count": 10,
     "metadata": {},
     "output_type": "execute_result"
    }
   ],
   "source": [
    "# полином первого порядка, LinearRegression\n",
    "boston_dataset = load_boston()\n",
    "X = boston_dataset.data\n",
    "y = boston_dataset.target\n",
    "X_train, X_valid, y_train, y_valid = train_test_split(X, y, test_size=0.2, random_state=10)\n",
    "reg = LinearRegression().fit(X_train, y_train)\n",
    "y_pred = reg.predict(X_valid)\n",
    "r2_score(y_pred, y_valid)"
   ]
  },
  {
   "cell_type": "code",
   "execution_count": 11,
   "metadata": {},
   "outputs": [
    {
     "data": {
      "text/plain": [
       "0.7619957994929665"
      ]
     },
     "execution_count": 11,
     "metadata": {},
     "output_type": "execute_result"
    }
   ],
   "source": [
    "# полином второго порядка, LinearRegression (лучше всего)\n",
    "X = np.concatenate((X, X **2), axis = 1)\n",
    "X.shape\n",
    "X_train, X_valid, y_train, y_valid = train_test_split(X, y, test_size=0.2, random_state=10)\n",
    "reg = LinearRegression().fit(X_train, y_train)\n",
    "y_pred = reg.predict(X_valid)\n",
    "r2_score(y_pred, y_valid)"
   ]
  },
  {
   "cell_type": "code",
   "execution_count": 12,
   "metadata": {},
   "outputs": [
    {
     "data": {
      "text/plain": [
       "-0.5089333543318721"
      ]
     },
     "execution_count": 12,
     "metadata": {},
     "output_type": "execute_result"
    }
   ],
   "source": [
    "# полином третьего порядка, LinearRegression\n",
    "X = np.concatenate((X, X **2, X **3), axis = 1)\n",
    "X.shape\n",
    "X_train, X_valid, y_train, y_valid = train_test_split(X, y, test_size=0.2, random_state=10)\n",
    "reg = LinearRegression().fit(X_train, y_train)\n",
    "y_pred = reg.predict(X_valid)\n",
    "r2_score(y_pred, y_valid)"
   ]
  },
  {
   "cell_type": "markdown",
   "metadata": {
    "id": "ZadrTkGLMMbs"
   },
   "source": [
    "Вы можете начать использовать градиентный спуск уже сейчас! Если вы хотите глубже понять механизмы, которые использует этот приём - добро пожаловать в урок 5, где мы поговорим о математике, которая стоит за градиентным спуском и даже реализуем градиентный спуск на языке Python."
   ]
  },
  {
   "cell_type": "code",
   "execution_count": null,
   "metadata": {},
   "outputs": [],
   "source": []
  }
 ],
 "metadata": {
  "celltoolbar": "Slideshow",
  "colab": {
   "collapsed_sections": [],
   "name": "jun_ml_linear_regression_II-hw_8.ipynb",
   "provenance": []
  },
  "kernelspec": {
   "display_name": "Python 3",
   "language": "python",
   "name": "python3"
  },
  "language_info": {
   "codemirror_mode": {
    "name": "ipython",
    "version": 3
   },
   "file_extension": ".py",
   "mimetype": "text/x-python",
   "name": "python",
   "nbconvert_exporter": "python",
   "pygments_lexer": "ipython3",
   "version": "3.7.6"
  }
 },
 "nbformat": 4,
 "nbformat_minor": 1
}
