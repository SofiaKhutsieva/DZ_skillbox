{
 "cells": [
  {
   "cell_type": "markdown",
   "metadata": {
    "id": "idnfa1hXYUOh"
   },
   "source": [
    "### Урок 3. Домашняя работа\n",
    "\n",
    "**Задание простого уровня** Загрузите данные из файла `non_linear.csv` и сгенерируйте данные до степени *degree = 8* включительно. Обучите модель `sklearn.linear_model.Lasso` и модель `sklearn.linear_model.Ridge` на полученных данных, используйте коэффициент регуляризации $\\alpha=0.8$ для обеих моделей. Постройте два столбчатых графика, на которых отобразите величину коэффициентов для Ridge регрессии и Lasso регрессии в виде столбиков.\n",
    "\n",
    "Пример графиков для 3-й степени (просто для примера, у вас может по-другому выглядеть). Какой можно сделать в вывод по величине коэффициентов?:\n",
    "![coeff_example](https://pp.userapi.com/c850136/v850136613/19282c/OfwruuxOkPw.jpg)"
   ]
  },
  {
   "cell_type": "code",
   "execution_count": 1,
   "metadata": {
    "id": "bYGmSdz4YUOh",
    "slideshow": {
     "slide_type": "-"
    }
   },
   "outputs": [],
   "source": [
    "# -- ВАШ КОД ТУТ"
   ]
  },
  {
   "cell_type": "code",
   "execution_count": 2,
   "metadata": {},
   "outputs": [],
   "source": [
    "import numpy as np\n",
    "import pandas as pd\n",
    "from matplotlib import pyplot as plt\n",
    "\n",
    "from sklearn.model_selection import train_test_split\n",
    "from sklearn.linear_model import Ridge, Lasso\n",
    "from sklearn.metrics import mean_squared_error"
   ]
  },
  {
   "cell_type": "code",
   "execution_count": 3,
   "metadata": {},
   "outputs": [
    {
     "data": {
      "text/html": [
       "<div>\n",
       "<style scoped>\n",
       "    .dataframe tbody tr th:only-of-type {\n",
       "        vertical-align: middle;\n",
       "    }\n",
       "\n",
       "    .dataframe tbody tr th {\n",
       "        vertical-align: top;\n",
       "    }\n",
       "\n",
       "    .dataframe thead th {\n",
       "        text-align: right;\n",
       "    }\n",
       "</style>\n",
       "<table border=\"1\" class=\"dataframe\">\n",
       "  <thead>\n",
       "    <tr style=\"text-align: right;\">\n",
       "      <th></th>\n",
       "      <th>x_train</th>\n",
       "      <th>y_train</th>\n",
       "    </tr>\n",
       "  </thead>\n",
       "  <tbody>\n",
       "    <tr>\n",
       "      <th>0</th>\n",
       "      <td>0.138368</td>\n",
       "      <td>0.838812</td>\n",
       "    </tr>\n",
       "    <tr>\n",
       "      <th>1</th>\n",
       "      <td>0.157237</td>\n",
       "      <td>0.889313</td>\n",
       "    </tr>\n",
       "    <tr>\n",
       "      <th>2</th>\n",
       "      <td>0.188684</td>\n",
       "      <td>1.430040</td>\n",
       "    </tr>\n",
       "    <tr>\n",
       "      <th>3</th>\n",
       "      <td>0.685553</td>\n",
       "      <td>1.717309</td>\n",
       "    </tr>\n",
       "    <tr>\n",
       "      <th>4</th>\n",
       "      <td>0.874237</td>\n",
       "      <td>2.032588</td>\n",
       "    </tr>\n",
       "  </tbody>\n",
       "</table>\n",
       "</div>"
      ],
      "text/plain": [
       "    x_train   y_train\n",
       "0  0.138368  0.838812\n",
       "1  0.157237  0.889313\n",
       "2  0.188684  1.430040\n",
       "3  0.685553  1.717309\n",
       "4  0.874237  2.032588"
      ]
     },
     "execution_count": 3,
     "metadata": {},
     "output_type": "execute_result"
    }
   ],
   "source": [
    "data = pd.read_csv('non_linear.csv', sep=',')\n",
    "data.head()"
   ]
  },
  {
   "cell_type": "code",
   "execution_count": 4,
   "metadata": {},
   "outputs": [],
   "source": [
    "def generate_degrees(source_data: list, degree: int):\n",
    "    \"\"\"Функция, которая принимает на вход одномерный массив, а возвращает n-мерный\n",
    "    Для каждой степени от 1 до  degree возводим x в эту степень\n",
    "    \"\"\"\n",
    "    return np.array([\n",
    "          source_data**n for n in range(1, degree + 1)  \n",
    "    ]).T"
   ]
  },
  {
   "cell_type": "code",
   "execution_count": 5,
   "metadata": {},
   "outputs": [
    {
     "data": {
      "text/plain": [
       "array([], dtype=float64)"
      ]
     },
     "execution_count": 5,
     "metadata": {},
     "output_type": "execute_result"
    }
   ],
   "source": [
    "MSE = np.array([])\n",
    "MSE"
   ]
  },
  {
   "cell_type": "code",
   "execution_count": 6,
   "metadata": {},
   "outputs": [
    {
     "name": "stderr",
     "output_type": "stream",
     "text": [
      "C:\\Python\\Anaconda\\lib\\site-packages\\sklearn\\linear_model\\_coordinate_descent.py:476: ConvergenceWarning: Objective did not converge. You might want to increase the number of iterations. Duality gap: 0.9365323182556149, tolerance: 0.0024481555784964045\n",
      "  positive)\n",
      "C:\\Python\\Anaconda\\lib\\site-packages\\sklearn\\linear_model\\_coordinate_descent.py:476: ConvergenceWarning: Objective did not converge. You might want to increase the number of iterations. Duality gap: 0.6197582700047555, tolerance: 0.0024481555784964045\n",
      "  positive)\n",
      "C:\\Python\\Anaconda\\lib\\site-packages\\sklearn\\linear_model\\_coordinate_descent.py:476: ConvergenceWarning: Objective did not converge. You might want to increase the number of iterations. Duality gap: 3.3594230250602672, tolerance: 0.0024481555784964045\n",
      "  positive)\n",
      "C:\\Python\\Anaconda\\lib\\site-packages\\sklearn\\linear_model\\_coordinate_descent.py:476: ConvergenceWarning: Objective did not converge. You might want to increase the number of iterations. Duality gap: 3.7134369621139327, tolerance: 0.0024481555784964045\n",
      "  positive)\n"
     ]
    }
   ],
   "source": [
    "for degree in range (1, 9):\n",
    "    X = generate_degrees(data['x_train'], degree)\n",
    "    y = data.y_train.values\n",
    "    X_train, X_valid, y_train, y_valid = train_test_split(X, y, test_size=0.2, random_state=10)\n",
    "    model = Ridge(alpha=0.8).fit(X_train, y_train)\n",
    "    y_pred = model.predict(X_valid)\n",
    "    y_pred_train = model.predict(X_train)\n",
    "    MSE_valid_ridge = mean_squared_error(y_valid, y_pred)\n",
    "    MSE_train_ridge = mean_squared_error(y_train, y_pred_train)\n",
    "    \n",
    "    model = Lasso(alpha=0.8).fit(X_train, y_train)\n",
    "    y_pred = model.predict(X_valid)\n",
    "    y_pred_train = model.predict(X_train)\n",
    "    MSE_valid_lasso = mean_squared_error(y_valid, y_pred)\n",
    "    MSE_train_lasso = mean_squared_error(y_train, y_pred_train)\n",
    "    \n",
    "    MSE = np.append(MSE, [MSE_valid_ridge, MSE_train_ridge, MSE_valid_lasso, MSE_train_lasso])\n",
    "    # или так\n",
    "    if degree == 1:\n",
    "        MSE_ = np.array([MSE_valid_ridge, MSE_train_ridge, MSE_valid_lasso, MSE_train_lasso])\n",
    "    else:  \n",
    "        MSE_ = np.vstack ([MSE_, [MSE_valid_ridge, MSE_train_ridge, MSE_valid_lasso, MSE_train_lasso]])"
   ]
  },
  {
   "cell_type": "code",
   "execution_count": 7,
   "metadata": {},
   "outputs": [
    {
     "data": {
      "text/plain": [
       "array([[0.2691918 , 0.31775725, 0.64521718, 0.54223511],\n",
       "       [0.2526163 , 0.31414958, 0.36471915, 0.35830066],\n",
       "       [0.07051586, 0.10027094, 0.36471915, 0.35830066],\n",
       "       [0.06353172, 0.10562556, 0.11181014, 0.16475111],\n",
       "       [0.06757627, 0.081604  , 0.09387726, 0.15773098],\n",
       "       [0.07055461, 0.08357012, 0.10238036, 0.16880441],\n",
       "       [0.07128983, 0.06817542, 0.09884981, 0.16407832],\n",
       "       [0.07852416, 0.07021038, 0.09284713, 0.15517204]])"
      ]
     },
     "execution_count": 7,
     "metadata": {},
     "output_type": "execute_result"
    }
   ],
   "source": [
    "MSE_"
   ]
  },
  {
   "cell_type": "code",
   "execution_count": 8,
   "metadata": {},
   "outputs": [
    {
     "data": {
      "text/plain": [
       "array([[0.2691918 , 0.31775725, 0.64521718, 0.54223511],\n",
       "       [0.2526163 , 0.31414958, 0.36471915, 0.35830066],\n",
       "       [0.07051586, 0.10027094, 0.36471915, 0.35830066],\n",
       "       [0.06353172, 0.10562556, 0.11181014, 0.16475111],\n",
       "       [0.06757627, 0.081604  , 0.09387726, 0.15773098],\n",
       "       [0.07055461, 0.08357012, 0.10238036, 0.16880441],\n",
       "       [0.07128983, 0.06817542, 0.09884981, 0.16407832],\n",
       "       [0.07852416, 0.07021038, 0.09284713, 0.15517204]])"
      ]
     },
     "execution_count": 8,
     "metadata": {},
     "output_type": "execute_result"
    }
   ],
   "source": [
    "MSE = MSE.reshape(8,4)\n",
    "MSE"
   ]
  },
  {
   "cell_type": "code",
   "execution_count": 9,
   "metadata": {},
   "outputs": [
    {
     "data": {
      "text/plain": [
       "array([1., 2., 3., 4., 5., 6., 7., 8.])"
      ]
     },
     "execution_count": 9,
     "metadata": {},
     "output_type": "execute_result"
    }
   ],
   "source": [
    "degree = np.linspace(1, 8, 8)\n",
    "degree"
   ]
  },
  {
   "cell_type": "code",
   "execution_count": 10,
   "metadata": {},
   "outputs": [
    {
     "data": {
      "image/png": "[encoded data removed]",
      "text/plain": [
       "<Figure size 720x360 with 1 Axes>"
      ]
     },
     "metadata": {
      "needs_background": "light"
     },
     "output_type": "display_data"
    }
   ],
   "source": [
    "plt.figure(figsize=(10, 5)) \n",
    "plt.bar(degree, MSE[:,0], color = 'g', alpha = 0.5, width = 0.2, label = 'valid_ridge')\n",
    "plt.bar(degree+0.2, MSE[:,1], color = 'b', alpha = 0.5, width = 0.2, label = 'train_ridge')\n",
    "plt.bar(degree+0.4, MSE[:,2], color = 'r', alpha = 0.5, width = 0.2, label = 'valid_lasso')\n",
    "plt.bar(degree+0.6, MSE[:,3], color = 'y', alpha = 0.5, width = 0.2, label = 'train_lasso')\n",
    "plt.xticks(degree + 0.3, degree)\n",
    "plt.xlabel('степень полинома', fontsize=12)\n",
    "plt.ylabel('MSE', fontsize=12)\n",
    "plt.title('Зависимость ошибки от степени', fontsize=12)\n",
    "plt.legend()\n",
    "plt.grid()\n",
    "plt.show()"
   ]
  },
  {
   "cell_type": "code",
   "execution_count": 11,
   "metadata": {},
   "outputs": [
    {
     "name": "stdout",
     "output_type": "stream",
     "text": [
      "при регуляризации Ridge оптимальной степенью полинома является 4, MSE_valid = 0.064 \n",
      "при регуляризации Lasso оптимальной степенью полинома является 8, MSE_valid = 0.093\n"
     ]
    }
   ],
   "source": [
    "print ('при регуляризации Ridge оптимальной степенью полинома является %d, MSE_valid = %.3f \\nпри \\\n",
    "регуляризации Lasso оптимальной степенью полинома является %d, MSE_valid = %.3f' \\\n",
    "       % (MSE[:,0].argmin() + 1, MSE[:,0].min(), MSE[:,2].argmin() + 1, MSE[:,2].min()))"
   ]
  },
  {
   "cell_type": "markdown",
   "metadata": {
    "id": "dGA2X5S5YUOl"
   },
   "source": [
    "Пока что мы пользуемся моделями с регуляризацией как \"черным ящиком\" - знаем, как применять и это работает! Для успешного решения задач этого достаточно. Если вам, как и мне, интересно *почему* это работает - добро пожаловать во второй урок, где Вас ждёт больше кода и формул!"
   ]
  },
  {
   "cell_type": "code",
   "execution_count": null,
   "metadata": {},
   "outputs": [],
   "source": []
  }
 ],
 "metadata": {
  "celltoolbar": "Slideshow",
  "colab": {
   "collapsed_sections": [],
   "name": "jun_ml_linear_regression_II_hw_3.ipynb",
   "provenance": []
  },
  "kernelspec": {
   "display_name": "Python 3",
   "language": "python",
   "name": "python3"
  },
  "language_info": {
   "codemirror_mode": {
    "name": "ipython",
    "version": 3
   },
   "file_extension": ".py",
   "mimetype": "text/x-python",
   "name": "python",
   "nbconvert_exporter": "python",
   "pygments_lexer": "ipython3",
   "version": "3.7.6"
  }
 },
 "nbformat": 4,
 "nbformat_minor": 1
}
